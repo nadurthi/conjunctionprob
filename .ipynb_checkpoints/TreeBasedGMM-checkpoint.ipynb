{
 "cells": [
  {
   "cell_type": "code",
   "execution_count": 111,
   "metadata": {
    "collapsed": true
   },
   "outputs": [],
   "source": [
    "from __future__ import division\n",
    "%matplotlib inline\n",
    "import matplotlib.pyplot as plt\n",
    "from sklearn import tree\n",
    "import scipy as sc\n",
    "import numpy as np\n",
    "from scipy.stats import multivariate_normal\n",
    "import numpy as np\n",
    "import pandas as pd\n",
    "from sklearn import preprocessing\n",
    "from sklearn.cluster import KMeans\n",
    "\n",
    "def coloriter():\n",
    "    for m in ['o','s','*','+']:\n",
    "        for c in ['b','r','g','k','y']:\n",
    "            yield c+m\n",
    "\n",
    "def F(rth):\n",
    "    x=rth[0]*np.cos(rth[1])\n",
    "    y=rth[0]*np.sin(rth[1])\n",
    "    return np.array([x,y])\n",
    "\n",
    "class Normalize0I(object):\n",
    "    def __init__(self,X,scale=1,w=None):\n",
    "        \n",
    "        M,P=GetMeanCov(X,w=w)\n",
    "        self.mean=M\n",
    "        self.cov=scale*P\n",
    "        \n",
    "    def normalize(self,X,probs=None):\n",
    "        P=self.cov\n",
    "        M=self.mean\n",
    "        invsqrtP=np.linalg.inv( sc.linalg.sqrtm(P) )\n",
    "        M=M.reshape(-1,1)\n",
    "        \n",
    "        Y=np.zeros(X.shape)\n",
    "        \n",
    "        for i in range(X.shape[0]):\n",
    "            Y[i,:]=np.dot(invsqrtP,X[i,:].reshape(-1,1)-M).reshape(1,-1)[0]\n",
    "\n",
    "        if probs is not None:\n",
    "            probs=probs/np.abs( np.linalg.det(invsqrtP) )\n",
    "            return Y,probs\n",
    "        else:\n",
    "            return Y\n",
    "    \n",
    "    def revert(self,X,probs=None):\n",
    "        P=self.cov\n",
    "        M=self.mean\n",
    "        sqrtP=sc.linalg.sqrtm(P) \n",
    "        M=M.reshape(-1,1)\n",
    "        Y=np.zeros(X.shape)\n",
    "        for i in range(X.shape[0]):\n",
    "            Y[i,:]=(np.dot(sqrtP,X[i,:].reshape(-1,1))+M).reshape(1,-1)[0]\n",
    "\n",
    "        if probs is not None:\n",
    "            probs=probs/np.abs( np.linalg.det(sqrtP) )\n",
    "            return Y,probs\n",
    "        else:\n",
    "            return Y\n",
    "\n",
    "class Normalize_11(object):\n",
    "    def __init__(self,X,w=None):\n",
    "        \n",
    "        M,P=GetMeanCov(X,w=w)\n",
    "        self.mean=M\n",
    "        Y=X-np.tile(M.reshape(1,-1)[0],(X.shape[0],1))\n",
    "        Ymn=np.amax(np.abs(Y),axis=0)\n",
    "        P=np.diag(np.power(Ymn,2))\n",
    "#         Ymx=np.amax(Y,axis=0)\n",
    "        \n",
    "        self.cov=P\n",
    "        \n",
    "    def normalize(self,X,probs=None):\n",
    "        P=self.cov\n",
    "        M=self.mean\n",
    "        invsqrtP=np.linalg.inv( sc.linalg.sqrtm(P) )\n",
    "        M=M.reshape(-1,1)\n",
    "        \n",
    "        Y=np.zeros(X.shape)\n",
    "        \n",
    "        for i in range(X.shape[0]):\n",
    "            Y[i,:]=np.dot(invsqrtP,X[i,:].reshape(-1,1)-M).reshape(1,-1)[0]\n",
    "\n",
    "        if probs is not None:\n",
    "            probs=probs/np.abs( np.linalg.det(invsqrtP) )\n",
    "            return Y,probs\n",
    "        else:\n",
    "            return Y\n",
    "    \n",
    "    def revert(self,X,probs=None):\n",
    "        P=self.cov\n",
    "        M=self.mean\n",
    "        sqrtP=sc.linalg.sqrtm(P) \n",
    "        M=M.reshape(-1,1)\n",
    "        Y=np.zeros(X.shape)\n",
    "        for i in range(X.shape[0]):\n",
    "            Y[i,:]=(np.dot(sqrtP,X[i,:].reshape(-1,1))+M).reshape(1,-1)[0]\n",
    "\n",
    "        if probs is not None:\n",
    "            probs=probs/np.abs( np.linalg.det(sqrtP) )\n",
    "            return Y,probs\n",
    "        else:\n",
    "            return Y\n",
    "        \n",
    "def Frev(X):\n",
    "    r=np.linalg.norm(X)\n",
    "    th=np.arctan2(X[1],X[0])\n",
    "    return np.array([r,th])\n",
    "\n",
    "\n",
    "def FJac(rth):\n",
    "    th=rth[1]\n",
    "    r=rth[0]\n",
    "    return np.array( [[np.cos(th),-r*np.sin(th)],[np.sin(th),r*np.cos(th)]] )\n",
    "\n",
    "\n",
    "def GetMeanCov(X,w=None):\n",
    "    M=np.average(X,axis=0,weights=w)\n",
    "#     P=np.cov(X,rowvar=False,aweights=w)\n",
    "    PP=0\n",
    "    if w is None:\n",
    "        w=np.ones(X.shape[0])/X.shape[0]\n",
    "        \n",
    "    for i in range(X.shape[0]):\n",
    "        PP=PP+w[i]*np.dot((X[i,:]-M).reshape(-1,1),(X[i,:]-M).reshape(1,-1) )\n",
    "    \n",
    "    return (M,PP)\n",
    "\n",
    "def UnscentedTransform_pts(mu,P):\n",
    "    mu=mu.copy().reshape(1,-1)[0]\n",
    "    n=P.shape[0];\n",
    "    X=np.zeros((2*n+1,n))\n",
    "    w=np.zeros(2*n+1)\n",
    "    if n<4:\n",
    "        k=3-n;\n",
    "    else:\n",
    "        k=1;\n",
    "\n",
    "    X[0,:]=mu;\n",
    "    w[0]=k/(n+k);\n",
    "    A=sc.linalg.sqrtm((n+k)*P);\n",
    "    for i in range(0,n):\n",
    "        X[i+1,:]=(mu+A[:,i])\n",
    "        X[i+n+1,:]=(mu-A[:,i])\n",
    "        w[i+1]=1/(2*(n+k));\n",
    "        w[i+n+1]=1/(2*(n+k));\n",
    "    \n",
    "    return (X,w)\n",
    "\n",
    "def fitclusters(Z,w=None):\n",
    "    M,P=GetMeanCov(Z,w=w)\n",
    "    eigs,v=np.linalg.eig(P)\n",
    "    print eigs\n",
    "    maxeig=np.sqrt( max(eigs) )\n",
    "    \n",
    "#     print \"main clsuter\"\n",
    "#     print M\n",
    "#     print maxeig\n",
    "    \n",
    "    savekmeans={}\n",
    "    for Ncls in [20]:\n",
    "        maxeig\n",
    "        kmeans = KMeans(n_clusters=Ncls, random_state=10).fit(Z)\n",
    "        Zids=kmeans.labels_\n",
    "        # get distance between clusters\n",
    "        d=[]\n",
    "        for i in range(Ncls):\n",
    "            for j in range(i+1,Ncls):\n",
    "                d.append( np.linalg.norm(kmeans.cluster_centers_[i]-kmeans.cluster_centers_[j]) )\n",
    "        \n",
    "        savekmeans[Ncls]=kmeans\n",
    "        if min(d)< maxeig/2:\n",
    "            break\n",
    "            \n",
    "    print \"#cluster = \",Ncls\n",
    "    \n",
    "    N=Ncls\n",
    "    kmeans=savekmeans[N]\n",
    "    # split the points into clusters\n",
    "\n",
    "    return (N,kmeans.labels_,kmeans.cluster_centers_)\n",
    "\n",
    "def weightcost(x,A,b):\n",
    "    return np.linalg.norm( np.dot(A,x.reshape(-1,1))-b )\n",
    "\n",
    "class GaussMixModel(object):\n",
    "    def __init__(self,ws,Ms,Ps):\n",
    "        self.weights=list(ws)\n",
    "        self.means=np.array(Ms).copy()\n",
    "        self.covs=np.array(Ps).copy()\n",
    "        self.N=len(ws)\n",
    "        self.illcond=set([])\n",
    "    def scalecovs(self,c):\n",
    "        for i in range(self.N):\n",
    "            self.covs[i]=self.covs[i]*c\n",
    "            \n",
    "    def lineartransform(self,A,b):\n",
    "        \"\"\"\n",
    "        linear trasnform the GMM\n",
    "        \"\"\"\n",
    "        for i in range(self.N):\n",
    "            self.means[i]=(np.dot(A,self.means[i].reshape(-1,1))+b.reshape(-1,1)).reshape(1,-1)[0]\n",
    "            self.covs[i]=np.dot(np.dot(A,self.covs[i]),A.transpose())\n",
    "            \n",
    "    def purgecomponent(self,i):\n",
    "#         print \"purging i = \",i,\" with mean \",self.means[i],\" and cov \",self.covs[i]\n",
    "        self.weights=np.delete(self.weights,i)\n",
    "        self.means=np.delete(self.means,i,axis=0)\n",
    "        self.covs=np.delete(self.covs,i,axis=0)\n",
    "        self.N=self.N-1\n",
    "        \n",
    "    def AppendComponents(self,ws,Ms,Ps):\n",
    "        if len(ws)==0 or len(Ms)==0 or len(Ps)==0:\n",
    "            return\n",
    "        \n",
    "        self.weights=list(self.weights)+list(ws)\n",
    "        self.means=np.vstack(( self.means,np.array(Ms).copy() ))\n",
    "        self.covs=np.vstack(( self.covs,np.array(Ps).copy() ))\n",
    "        self.N=len(self.weights)\n",
    "    \n",
    "    def evalaute_probability(self,X):\n",
    "\n",
    "        p=np.zeros(X.shape[0])\n",
    "        for i in range(self.N):\n",
    "            P=self.covs[i]\n",
    "            M=self.means[i]\n",
    "            try:\n",
    "                p=p+self.weights[i]*multivariate_normal.pdf(X, self.means[i], self.covs[i])\n",
    "            except:\n",
    "                self.illcond.add(i)\n",
    "                invsqrtP=np.linalg.inv( sc.linalg.sqrtm(P) )\n",
    "#                 print M.shape,invsqrtP.shape,(X[20,:]-M).reshape(-1,1)\n",
    "                Y=np.zeros(X.shape)\n",
    "                for j in range(X.shape[0]):\n",
    "                    Y[j,:]=np.dot(invsqrtP,(X[j,:]-M).reshape(-1,1)).reshape(1,-1)\n",
    "                pp=multivariate_normal.pdf(Y, np.zeros(X.shape[1]), np.identity(X.shape[1]))\n",
    "                pp=pp*np.abs(np.linalg.det(invsqrtP))\n",
    "\n",
    "                p=p+pp\n",
    "\n",
    "        return p\n",
    "    def get_component_probabilities(self,X):\n",
    "        p=[]\n",
    "        for i in range(self.N):\n",
    "            try:\n",
    "                pp=multivariate_normal.pdf(X, self.means[i], self.covs[i])\n",
    "                \n",
    "            except:\n",
    "                P=self.covs[i]\n",
    "                M=self.means[i]\n",
    "                invsqrtP=np.linalg.inv( sc.linalg.sqrtm(P) )\n",
    "#                 print M.shape,invsqrtP.shape,(X[20,:]-M).reshape(-1,1)\n",
    "                Y=np.zeros(X.shape)\n",
    "                for j in range(X.shape[0]):\n",
    "                    Y[j,:]=np.dot(invsqrtP,(X[j,:]-M).reshape(-1,1)).reshape(1,-1)\n",
    "                pp=multivariate_normal.pdf(Y, np.zeros(X.shape[1]), np.identity(X.shape[1]))\n",
    "                pp=pp*np.abs(np.linalg.det(invsqrtP))\n",
    "            \n",
    "            p.append( pp)\n",
    "            \n",
    "        return np.array(p)\n",
    "    \n",
    "    def Prune_byweight(self):\n",
    "        stdw=np.std(self.weights)\n",
    "        mnw=np.mean(self.weights)\n",
    "        \n",
    "        while(1):\n",
    "            flg=0\n",
    "            for i in range(self.N):\n",
    "                if np.abs(self.weights[i]-mnw)>5*stdw or self.weights[i]<1e-25:\n",
    "                    self.purgecomponent(i)\n",
    "                    flg=1\n",
    "                    break\n",
    "            if flg==0:\n",
    "                break\n",
    "    \n",
    "    def Prune_byCov(self):\n",
    "        eigs=np.abs(np.array( [max(np.linalg.eig(P)[0]) for P in self.covs]) )\n",
    "        stdeig=np.std(eigs)\n",
    "        mnw=np.mean(eigs)\n",
    "        \n",
    "        while(1):\n",
    "            flg=0\n",
    "            for i in range(self.N):\n",
    "                if np.abs(eigs[i]-mnw)>3*stdeig or np.linalg.matrix_rank(self.covs[i])<self.covs[i].shape[0]:\n",
    "                    self.purgecomponent(i)\n",
    "                    eigs=np.delete(eigs,i)\n",
    "                    flg=1\n",
    "                    break\n",
    "            if flg==0:\n",
    "                break\n",
    "    \n",
    "    def Prune_LowRank(self):\n",
    "        eigs=np.abs( np.array([np.linalg.eig(P)[0] for P in GMMY.covs]) )\n",
    "        eigmean=np.mean(eigs,axis=0)\n",
    "        eigstd=np.std(eigs,axis=0)\n",
    "        \n",
    "        while(1):\n",
    "            flg=0\n",
    "            for i in range(self.N):\n",
    "                if np.linalg.matrix_rank(self.covs[i])<self.covs[i].shape[0]:\n",
    "                    self.purgecomponent(i)\n",
    "                    eigs=np.delete(eigs,i,axis=0)\n",
    "                    \n",
    "                    flg=1\n",
    "                    break\n",
    "            if flg==0:\n",
    "                break\n",
    "                \n",
    "        \n",
    "        \n",
    "        while(1):\n",
    "            flg=0\n",
    "            for i in range(self.N):\n",
    "                if np.any( (np.abs(eigs[i,:]-eigmean)-10*eigstd)>0 ):\n",
    "                    self.purgecomponent(i)\n",
    "                    eigs=np.delete(eigs,i,axis=0)\n",
    "                    \n",
    "                    flg=1\n",
    "                    break\n",
    "            if flg==0:\n",
    "                break\n",
    "        \n",
    "    def getweight_rangeid(self,w):\n",
    "        W={}\n",
    "        for i in range(0,self.N):\n",
    "            if i==0:\n",
    "                W[0]=(0,self.weights[0])\n",
    "            else:\n",
    "                W[i]=( W[i-1][1],W[i-1][1]+self.weights[i])\n",
    "            if w>=W[i][0] and w<W[i][1]:\n",
    "                return i\n",
    "            \n",
    "#         D={}\n",
    "#         for key,value in W.items():\n",
    "#             D[value]=key\n",
    "        \n",
    "        \n",
    "    def randomsamples(self,N,scale=1):\n",
    "        \n",
    "        X=np.zeros((N,self.covs[0].shape[0]))\n",
    "        for i in range(N):\n",
    "            w=np.random.random(1)\n",
    "            ind=self.getweight_rangeid(w)\n",
    "#             print w,ind\n",
    "            X[i,:]=np.random.multivariate_normal(self.means[ind], scale**2*self.covs[ind], 1)\n",
    "        return X\n",
    "        \n",
    "        \n",
    "    def optimize_weights_original(self,X,M0,P0):\n",
    "        M0=M0.reshape(1,-1)[0]\n",
    "        p0=multivariate_normal.pdf(X, M0, P0)\n",
    "        p=self.get_component_probabilities(X)\n",
    "        A=p.transpose()\n",
    "        b=p0\n",
    "        weights=np.linalg.lstsq(A, b)[0]\n",
    "        weights=weights/np.sum(weights)\n",
    "        self.weights=weights\n",
    "        \n",
    "        return weights\n",
    "    \n",
    "    def normalize_weights(self):\n",
    "        weights=np.ones(self.N)\n",
    "        weights=weights/np.sum(weights)\n",
    "        self.weights=weights\n",
    "        \n",
    "        return weights\n",
    "    \n",
    "    def optimize_weights_prob(self,X,pT):\n",
    "        p0=pT\n",
    "        p=self.get_component_probabilities(X)\n",
    "        A=p.transpose()\n",
    "        b=p0\n",
    "\n",
    "        results=sc.optimize.lsq_linear(A,b,bounds= (np.zeros(self.N), np.ones(self.N)) )\n",
    "        weights=results.x\n",
    "        weights=weights/np.sum(weights)\n",
    "        self.weights=weights\n",
    "        \n",
    "        return weights\n",
    "    \n",
    "    def optimize_weights_prob_nonlinear(self,X,pT):\n",
    "        p0=pT\n",
    "        p=self.get_component_probabilities(X)\n",
    "        A=p.transpose()\n",
    "        b=p0\n",
    "        cons = ({'type': 'eq',\n",
    "                'fun' : lambda x: np.sum(x)-1,\n",
    "                'jac' : lambda x: np.ones(len(x))}) #(np.zeros(self.N), np.ones(self.N))\n",
    "        results=sc.optimize.minimize(weightcost, np.ones(self.N)/self.N,args=(A,b),constraints=cons,bounds=[(0,1) for i in range(self.N)] )\n",
    "        weights=results.x\n",
    "        weights=weights/np.sum(weights)\n",
    "        self.weights=weights\n",
    "        \n",
    "        return weights\n",
    "    \n",
    "    def plotcomp_ellipsoids(self,k,dims=[0,1],comp=None,ax=None):\n",
    "        if comp is None:\n",
    "            rang=range(self.N)\n",
    "        else:\n",
    "            rang=[comp]\n",
    "        for i in rang:\n",
    "            MU=self.means[i].reshape(-1,1)[[dims[0],dims[1] ]]\n",
    "            SIG=self.covs[i][[[ dims[0] ],[dims[1]]],[dims[0],dims[1]]]\n",
    "            sqrtmSIG=sc.linalg.sqrtm(k*SIG)\n",
    "            th=np.linspace(0,2*np.pi,100)\n",
    "            X=np.zeros((100,2))\n",
    "            for j in range(100):\n",
    "                X[j,:]=( np.dot(sqrtmSIG,np.array([[np.cos(th[j])],[np.sin(th[j])]]))+MU ).transpose()[0]\n",
    "            if ax is None:\n",
    "                plt.plot(X[:,0],X[:,1],'r')\n",
    "            else:\n",
    "                ax.plot(X[:,0],X[:,1],'r')\n",
    "                \n",
    "\n",
    "def MakeGMMcopy(GMM):\n",
    "    return GaussMixModel(GMM.weights,GMM.means,GMM.covs)\n",
    "\n",
    "\n",
    "def transformGMM(GMM0,Func):\n",
    "    GMM1=GaussMixModel(GMM0.weights,GMM0.means,GMM0.covs)\n",
    "    for i in range(GMM0.N):\n",
    "        X,w=UnscentedTransform_pts(GMM0.means[i],GMM0.covs[i])\n",
    "        Y=np.zeros(X.shape)\n",
    "        for j in range(X.shape[0]):\n",
    "            Y[j,:]=Func(X[j,:])\n",
    "        mu,P=GetMeanCov(Y,w=w)\n",
    "        GMM1.means[i]=mu\n",
    "        GMM1.covs[i]=P\n",
    "    return GMM1\n",
    "\n",
    "def getleafpaths(estimator):\n",
    "    n_nodes = estimator.tree_.node_count\n",
    "    children_left = estimator.tree_.children_left\n",
    "    children_right = estimator.tree_.children_right\n",
    "    feature = estimator.tree_.feature\n",
    "    threshold = estimator.tree_.threshold\n",
    "\n",
    "\n",
    "    # The tree structure can be traversed to compute various properties such\n",
    "    # as the depth of each node and whether or not it is a leaf.\n",
    "    node_depth = np.zeros(shape=n_nodes, dtype=np.int64)\n",
    "    is_leaves = np.zeros(shape=n_nodes, dtype=bool)\n",
    "    stack = [(0, -1)]  # seed is the root node id and its parent depth\n",
    "    while len(stack) > 0:\n",
    "        node_id, parent_depth = stack.pop()\n",
    "        node_depth[node_id] = parent_depth + 1\n",
    "\n",
    "        # If we have a test node\n",
    "        if (children_left[node_id] != children_right[node_id]):\n",
    "            stack.append((children_left[node_id], parent_depth + 1))\n",
    "            stack.append((children_right[node_id], parent_depth + 1))\n",
    "        else:\n",
    "            is_leaves[node_id] = True\n",
    "    \n",
    "    nodepath={}\n",
    "    leafnodes=[]\n",
    "#     print n_nodes\n",
    "    for i in range(n_nodes):\n",
    "        nodepath[i]=[]\n",
    "        if is_leaves[i]:\n",
    "            leafnodes.append(i)\n",
    "            \n",
    "    for i in range(n_nodes):\n",
    "            \n",
    "        if is_leaves[i]:\n",
    "#             print(\"%snode=%s leaf node.\" % (node_depth[i] * \"\\t\", i))\n",
    "            pass\n",
    "        else:\n",
    "            L=nodepath[i]+[(feature[i],'lte',threshold[i])]\n",
    "            R=nodepath[i]+[(feature[i],'gt',threshold[i])]\n",
    "            \n",
    "            nodepath[ children_left[i]  ]=L\n",
    "            nodepath[ children_right[i] ]=R\n",
    "            \n",
    "    del nodepath[0]\n",
    "    return (nodepath,leafnodes)\n",
    "\n",
    "def getleafids(X,nodepaths,leafnodes):\n",
    "#     MajorIndex=np.array(range(X.shape[0]))\n",
    "    Xleafids=np.zeros(X.shape[0])\n",
    "    for lfn in leafnodes:\n",
    "        path=nodepaths[lfn]\n",
    "        ind=np.ones(X.shape[0], dtype=bool)\n",
    "        for pp in path:\n",
    "            if pp[1]=='lte':\n",
    "                ind=ind & (X[:,pp[0]]<=pp[2])\n",
    "            else:\n",
    "                ind=ind & (X[:,pp[0]]>pp[2])\n",
    "        Xleafids[ind]=lfn\n",
    "    return Xleafids\n",
    "\n",
    "def getclassifiedregions(pdiff,thres,X,rndT=0,min_samples_leaf=100,max_depth=2):\n",
    "    err=pdiff.copy()\n",
    "    indhigh=pdiff>=thres\n",
    "    indlow=pdiff<thres\n",
    "    err[indhigh]=1\n",
    "    err[indlow]=0\n",
    "\n",
    "    clf = tree.DecisionTreeClassifier(max_features=1,random_state=rndT,criterion='entropy',class_weight='balanced',min_samples_leaf=min_samples_leaf,max_depth=max_depth)\n",
    "    clf = clf.fit(X, err)\n",
    "    Errpred=clf.predict(X)\n",
    "#     print np.sum( np.abs(Errpred-err) )\n",
    "    \n",
    "    nodepaths,leafnodes=getleafpaths(clf)\n",
    "    Xleafids=getleafids(X,nodepaths,leafnodes)\n",
    "    \n",
    "    Xclass=pdiff\n",
    "    Xclass_errors={}\n",
    "    for leafid in leafnodes:\n",
    "        Y=Xclass[Xleafids==leafid]\n",
    "        Xclass_errors[leafid]=np.average(Y)\n",
    "        \n",
    "    return (clf,nodepaths,leafnodes,Xleafids,Xclass,Xclass_errors)\n",
    "\n",
    "\n",
    "def getpartitionMeanCovs(X,Xpartids,probs=None):\n",
    "    newmeans=[]\n",
    "    newcovs=[]\n",
    "    leafids=np.unique(Xpartids)\n",
    "    for lfn in leafids:\n",
    "        XX=X[Xpartids==lfn,:]\n",
    "        if probs is not None:\n",
    "            w=probs[Xpartids==lfn].copy()\n",
    "            w=w/np.sum(w)\n",
    "        else:\n",
    "            w=None\n",
    "            \n",
    "        mm,cc=GetMeanCov(XX,w=w)\n",
    "        A=[]\n",
    "        meanprob=np.mean(probs[Xpartids==lfn])\n",
    "        \n",
    "        for c in np.linspace(1e-15,5,1000):\n",
    "#             pp=multivariate_normal.pdf(mm, mm, c*cc)\n",
    "            pp=1/np.sqrt(np.linalg.det(2*np.pi*c*cc))\n",
    "            A.append( (c,np.linalg.norm(pp-meanprob),pp) )\n",
    "        \n",
    "        c=sorted(A,key=lambda x:x[1])[0][0]\n",
    "        print \"meanprob = \",meanprob,\" c = \",c,sorted(A,key=lambda x:x[1])[0][2]  \n",
    "        if np.linalg.matrix_rank(cc)<cc.shape[0]:\n",
    "            continue\n",
    "            \n",
    "            eig,_=np.linalg.eig(cc)\n",
    "            eig=np.abs(eig)\n",
    "            meaneig=sorted(eig)[int(len(eig)/2)]\n",
    "            cc=np.diag(np.ones(cc.shape[0])*meaneig)\n",
    "            \n",
    "        newmeans.append( mm )\n",
    "        newcovs.append( c*cc )\n",
    "    return newmeans,newcovs\n",
    "\n",
    "\n",
    "\n",
    "def printtree(estimator):\n",
    "# estimator=clf\n",
    "    n_nodes = estimator.tree_.node_count\n",
    "    children_left = estimator.tree_.children_left\n",
    "    children_right = estimator.tree_.children_right\n",
    "    feature = estimator.tree_.feature\n",
    "    threshold = estimator.tree_.threshold\n",
    "\n",
    "\n",
    "    # The tree structure can be traversed to compute various properties such\n",
    "    # as the depth of each node and whether or not it is a leaf.\n",
    "    node_depth = np.zeros(shape=n_nodes, dtype=np.int64)\n",
    "    is_leaves = np.zeros(shape=n_nodes, dtype=bool)\n",
    "    stack = [(0, -1)]  # seed is the root node id and its parent depth\n",
    "    while len(stack) > 0:\n",
    "        node_id, parent_depth = stack.pop()\n",
    "        node_depth[node_id] = parent_depth + 1\n",
    "\n",
    "        # If we have a test node\n",
    "        if (children_left[node_id] != children_right[node_id]):\n",
    "            stack.append((children_left[node_id], parent_depth + 1))\n",
    "            stack.append((children_right[node_id], parent_depth + 1))\n",
    "        else:\n",
    "            is_leaves[node_id] = True\n",
    "\n",
    "    print(\"The binary tree structure has %s nodes and has \"\n",
    "          \"the following tree structure:\"\n",
    "          % n_nodes)\n",
    "    for i in range(n_nodes):\n",
    "        if is_leaves[i]:\n",
    "            print(\"%snode=%s leaf node.\" % (node_depth[i] * \"\\t\", i))\n",
    "        else:\n",
    "            print(\"%snode=%s test node: go to node %s if X[:, %s] <= %s else to \"\n",
    "                  \"node %s.\"\n",
    "                  % (node_depth[i] * \"\\t\",\n",
    "                     i,\n",
    "                     children_left[i],\n",
    "                     feature[i],\n",
    "                     threshold[i],\n",
    "                     children_right[i],\n",
    "                     ))\n",
    "    print()\n",
    "    "
   ]
  },
  {
   "cell_type": "code",
   "execution_count": 2,
   "metadata": {},
   "outputs": [
    {
     "data": {
      "text/plain": [
       "[1, 2, 3]"
      ]
     },
     "execution_count": 2,
     "metadata": {},
     "output_type": "execute_result"
    }
   ],
   "source": [
    "sorted([2,1,3])"
   ]
  },
  {
   "cell_type": "markdown",
   "metadata": {},
   "source": [
    "# Two body data"
   ]
  },
  {
   "cell_type": "code",
   "execution_count": 89,
   "metadata": {},
   "outputs": [
    {
     "data": {
      "text/plain": [
       "(5000, 14)"
      ]
     },
     "execution_count": 89,
     "metadata": {},
     "output_type": "execute_result"
    }
   ],
   "source": [
    "data = np.genfromtxt('testCRT2.csv', delimiter=',')\n",
    "data.shape"
   ]
  },
  {
   "cell_type": "code",
   "execution_count": 90,
   "metadata": {
    "collapsed": true
   },
   "outputs": [],
   "source": [
    "XD=data[:,:6].copy()\n",
    "YD=data[:,6:12].copy()\n",
    "pXD=np.abs(data[:,12].copy())\n",
    "pYD=np.abs(data[:,13].copy())\n",
    "# Y=100*np.abs(pdiff)/py\n",
    "# Y=preprocessing.scale(data[:,:6])\n",
    "\n",
    "# m=np.percentile(Y,75)\n",
    "# indH=Y>=m\n",
    "# indL=Y<m\n",
    "# Y[indL]=0\n",
    "# Y[indH]=1"
   ]
  },
  {
   "cell_type": "code",
   "execution_count": 91,
   "metadata": {},
   "outputs": [
    {
     "data": {
      "text/plain": [
       "array([  8.85030000e+08,   6.61330000e+08,   1.36490000e+09, ...,\n",
       "         1.13620000e+09,   1.86250000e+08,   1.28650000e+09])"
      ]
     },
     "execution_count": 91,
     "metadata": {},
     "output_type": "execute_result"
    }
   ],
   "source": [
    "pXD"
   ]
  },
  {
   "cell_type": "code",
   "execution_count": 92,
   "metadata": {},
   "outputs": [
    {
     "data": {
      "text/plain": [
       "array([  8.85030000e+08,   6.61330000e+08,   1.36490000e+09, ...,\n",
       "         1.13620000e+09,   1.86250000e+08,   1.28650000e+09])"
      ]
     },
     "execution_count": 92,
     "metadata": {},
     "output_type": "execute_result"
    }
   ],
   "source": [
    "pYD"
   ]
  },
  {
   "cell_type": "code",
   "execution_count": 225,
   "metadata": {},
   "outputs": [
    {
     "data": {
      "text/plain": [
       "((6000, 6), (6000, 6), (6000,), (6000, 13))"
      ]
     },
     "execution_count": 225,
     "metadata": {},
     "output_type": "execute_result"
    }
   ],
   "source": [
    "XD.shape,YD.shape,pD.shape,data.shape"
   ]
  },
  {
   "cell_type": "code",
   "execution_count": 228,
   "metadata": {
    "collapsed": true
   },
   "outputs": [],
   "source": [
    "Ncls=20\n",
    "Y=YD.copy()\n",
    "kmeans = KMeans(n_clusters=Ncls, random_state=10).fit(Y)\n",
    "Xids=kmeans.labels_\n",
    "labels=range(Ncls)\n",
    "newmeans,newcovs=getpartitionMeanCovs(YD,Xids,probs=pD)\n",
    "GMMY=GaussMixModel(np.zeros(Ncls)/Ncls,newmeans,newcovs)"
   ]
  },
  {
   "cell_type": "code",
   "execution_count": 226,
   "metadata": {
    "collapsed": true
   },
   "outputs": [],
   "source": [
    "for cnt in range(5):\n",
    "    pyest=GMMY.evalaute_probability(Y)\n",
    "    pdiff=100*np.abs( np.divide((py-pyest),(py) ) )\n",
    "    \n",
    "    \n",
    "    avgerrs=[(i,np.mean(pdiff[Xids==i])) for i in range(Nlcs)]\n",
    "    avgerrs=sorted(avgerrs,key=lambda x: x[1],reverse=True)\n",
    "    clsid=avgerrs[0][0]\n",
    "    \n",
    "    kmeans = KMeans(n_clusters=Ncls, random_state=10).fit(YD)\n",
    "    Xids=kmeans.labels_\n",
    "    labels=range(Ncls)\n",
    "    newmeans,newcovs=getpartitionMeanCovs(YD,Xids,probs=pD)\n",
    "    \n",
    "    GMMY.AppendComponents(wnew,Ynewmeans,Ynewcovs )\n",
    "    \n",
    "    \n",
    "    p=coloriter()  \n",
    "    plt.figure()\n",
    "    for lfn in labels:\n",
    "        plt.plot(YD[Xids==lfn,0],YD[Xids==lfn,1],next(p))\n",
    "\n",
    "\n",
    "# newmeans,newcovs=getpartitionMeanCovs(X0,Xids)"
   ]
  },
  {
   "cell_type": "code",
   "execution_count": 95,
   "metadata": {},
   "outputs": [
    {
     "data": {
      "text/plain": [
       "(2000, 6)"
      ]
     },
     "execution_count": 95,
     "metadata": {},
     "output_type": "execute_result"
    }
   ],
   "source": [
    "X=YD.copy()\n",
    "M,P=GetMeanCov(X)\n",
    "np.tile(M.reshape(1,-1)[0],(X.shape[0],1)).shape\n",
    "# YY=X-np.repeat(M.reshape(1,-1)[0],X.shape[0],1)"
   ]
  },
  {
   "cell_type": "code",
   "execution_count": 14,
   "metadata": {
    "collapsed": true
   },
   "outputs": [],
   "source": [
    "X=YD.copy()\n",
    "px=pD.copy()\n",
    "NM11=Normalize0I(X)\n",
    "Z,pz=NM11.normalize(X,probs=px)\n",
    "G,pg=NM11.revert(Z,probs=pz)\n"
   ]
  },
  {
   "cell_type": "code",
   "execution_count": 15,
   "metadata": {},
   "outputs": [
    {
     "data": {
      "text/plain": [
       "(array([  1.44560000e+06,   9.17470000e+05,   1.24700000e+05, ...,\n",
       "          4.11810000e+00,   6.34940000e+05,   1.22030000e+00]),\n",
       " array([  1.44560000e+06,   9.17470000e+05,   1.24700000e+05, ...,\n",
       "          4.11810000e+00,   6.34940000e+05,   1.22030000e+00]))"
      ]
     },
     "execution_count": 15,
     "metadata": {},
     "output_type": "execute_result"
    }
   ],
   "source": [
    "pg,pD"
   ]
  },
  {
   "cell_type": "code",
   "execution_count": null,
   "metadata": {
    "scrolled": false
   },
   "outputs": [
    {
     "data": {
      "image/png": "[encoded data removed]",
      "text/plain": [
       "<matplotlib.figure.Figure at 0x7f65193410d0>"
      ]
     },
     "metadata": {},
     "output_type": "display_data"
    },
    {
     "data": {
      "image/png": "[encoded data removed]",
      "text/plain": [
       "<matplotlib.figure.Figure at 0x7f6512eaf550>"
      ]
     },
     "metadata": {},
     "output_type": "display_data"
    }
   ],
   "source": [
    "Ncls=20\n",
    "kmeans = KMeans(n_clusters=Ncls, random_state=10).fit(Z)\n",
    "Xids=kmeans.labels_\n",
    "labels=range(Ncls)\n",
    "\n",
    "p=coloriter()  \n",
    "\n",
    "for lfn in labels:\n",
    "    cc=next(p)\n",
    "    fig,ax=plt.subplots(1,2,figsize=(15,7))\n",
    "    ax[0].plot(Z[:,0],Z[:,1],'r.')\n",
    "    ax[0].plot(Z[Xids==lfn,0],Z[Xids==lfn,1],cc)\n",
    "    \n",
    "    ax[1].plot(X[:,0],X[:,1],'r.')\n",
    "    ax[1].plot(X[Xids==lfn,0],X[Xids==lfn,1],cc)\n",
    "    \n",
    "    \n",
    "# p=coloriter()  \n",
    "# plt.figure()\n",
    "# for lfn in labels:\n",
    "#     plt.plot(Y[Xids==lfn,0],Y[Xids==lfn,1],next(p))"
   ]
  },
  {
   "cell_type": "code",
   "execution_count": null,
   "metadata": {
    "collapsed": true
   },
   "outputs": [],
   "source": []
  },
  {
   "cell_type": "markdown",
   "metadata": {
    "collapsed": true
   },
   "source": [
    "\n",
    "# Define Dynamics"
   ]
  },
  {
   "cell_type": "code",
   "execution_count": 29,
   "metadata": {
    "collapsed": true
   },
   "outputs": [],
   "source": [
    "\n",
    "\n",
    "def plotellipse(MU,SIG):\n",
    "    MU=MU.reshape(-1,1)\n",
    "    th=np.linspace(0,2*np.pi,100)\n",
    "    X=np.zeros((100,2))\n",
    "    for i in range(100):\n",
    "        X[i,:]=( np.dot(sc.linalg.sqrtm(SIG),np.array([[np.cos(th[i])],[np.sin(th[i])]]))+MU ).transpose()[0]\n",
    "    plt.plot(X[:,0],X[:,1],'r')\n",
    "    \n",
    "def F(rth):\n",
    "    x=rth[0]*np.cos(rth[1])\n",
    "    y=rth[0]*np.sin(rth[1])\n",
    "    return np.array([x,y])\n",
    "\n",
    "def FJac(rth):\n",
    "    th=rth[1]\n",
    "    r=rth[0]\n",
    "    return np.array( [[np.cos(th),-r*np.sin(th)],[np.sin(th),r*np.cos(th)]] )\n",
    "\n",
    "    "
   ]
  },
  {
   "cell_type": "code",
   "execution_count": 298,
   "metadata": {},
   "outputs": [
    {
     "data": {
      "text/plain": [
       "[100,\n",
       " 95,\n",
       " 91,\n",
       " 87,\n",
       " 83,\n",
       " 78,\n",
       " 74,\n",
       " 70,\n",
       " 66,\n",
       " 62,\n",
       " 57,\n",
       " 53,\n",
       " 49,\n",
       " 45,\n",
       " 41,\n",
       " 36,\n",
       " 32,\n",
       " 28,\n",
       " 24,\n",
       " 20]"
      ]
     },
     "execution_count": 298,
     "metadata": {},
     "output_type": "execute_result"
    }
   ],
   "source": [
    "[int(a) for a in np.linspace(100,20,20)]"
   ]
  },
  {
   "cell_type": "code",
   "execution_count": 27,
   "metadata": {},
   "outputs": [
    {
     "data": {
      "text/plain": [
       "array([[ -4.15217860e-15],\n",
       "       [ -5.60653302e-13]])"
      ]
     },
     "execution_count": 27,
     "metadata": {},
     "output_type": "execute_result"
    }
   ],
   "source": [
    "MuY.reshape(-1,1)[0:2]"
   ]
  },
  {
   "cell_type": "code",
   "execution_count": 22,
   "metadata": {},
   "outputs": [
    {
     "data": {
      "text/plain": [
       "array([[  1.00000000e+00,  -2.18665486e-14],\n",
       "       [ -2.18665486e-14,   1.00000000e+00]])"
      ]
     },
     "execution_count": 22,
     "metadata": {},
     "output_type": "execute_result"
    }
   ],
   "source": [
    "PY[:2,:2]"
   ]
  },
  {
   "cell_type": "code",
   "execution_count": 79,
   "metadata": {
    "collapsed": true
   },
   "outputs": [],
   "source": [
    "import pandas as pd\n",
    "# get initial x points , correspong y points and their probabilities\n",
    "\n",
    "\n",
    "Mu0=np.array([[30],[np.pi/2]])\n",
    "P0=np.array( [[2**2,0],[0,(np.pi/6)**2]] )\n",
    "N=1000\n",
    "X0=np.random.multivariate_normal(Mu0.transpose()[0], P0, N)\n",
    "\n",
    "N=X0.shape[0]\n",
    "GMMX=GaussMixModel([1],[Mu0.reshape(1,-1)[0]],[P0])\n",
    "\n",
    "Y=np.zeros((N,2))\n",
    "px=GMMX.evalaute_probability(X0)\n",
    "py=np.zeros(px.shape)\n",
    "\n",
    "for i in range(N):\n",
    "    Y[i,:]=F(X0[i,:])\n",
    "    py[i]=px[i]/np.linalg.det( FJac(X0[i,:]))\n",
    "\n",
    "GMMY=transformGMM(GMMX,F)"
   ]
  },
  {
   "cell_type": "code",
   "execution_count": 112,
   "metadata": {},
   "outputs": [
    {
     "data": {
      "image/png": "[encoded data removed]",
      "text/plain": [
       "<matplotlib.figure.Figure at 0x7f4232202450>"
      ]
     },
     "metadata": {},
     "output_type": "display_data"
    }
   ],
   "source": [
    "Z=YD.copy()\n",
    "pz=pYD.copy()\n",
    "\n",
    "NM11=Normalize0I(Z,scale=0.02)\n",
    "Y,py=NM11.normalize(Z,probs=pz)\n",
    "\n",
    "MuY,PY=GetMeanCov(Y)\n",
    "GMMY=GaussMixModel([1],[MuY.reshape(1,-1)[0]],[PY])\n",
    "\n",
    "h=plt.hist(py,100)"
   ]
  },
  {
   "cell_type": "code",
   "execution_count": 70,
   "metadata": {},
   "outputs": [
    {
     "data": {
      "text/plain": [
       "array([  5.12490000e+08,   6.98640000e+07,   1.88080000e+09, ...,\n",
       "         2.06650000e+04,   3.30300000e+04,   5.63240000e+07])"
      ]
     },
     "execution_count": 70,
     "metadata": {},
     "output_type": "execute_result"
    }
   ],
   "source": [
    "pz"
   ]
  },
  {
   "cell_type": "code",
   "execution_count": 71,
   "metadata": {},
   "outputs": [
    {
     "data": {
      "text/plain": [
       "array([  4.21680326e+02,   5.74845837e+01,   1.54753528e+03, ...,\n",
       "         1.70033053e-02,   2.71773131e-02,   4.63437778e+01])"
      ]
     },
     "execution_count": 71,
     "metadata": {},
     "output_type": "execute_result"
    }
   ],
   "source": [
    "py"
   ]
  },
  {
   "cell_type": "code",
   "execution_count": 82,
   "metadata": {},
   "outputs": [
    {
     "data": {
      "image/png": "[encoded data removed]",
      "text/plain": [
       "<matplotlib.figure.Figure at 0x7f422dd90e90>"
      ]
     },
     "metadata": {},
     "output_type": "display_data"
    }
   ],
   "source": [
    "h=plt.hist(py,100)"
   ]
  },
  {
   "cell_type": "code",
   "execution_count": 73,
   "metadata": {},
   "outputs": [
    {
     "data": {
      "image/png": "[encoded data removed]",
      "text/plain": [
       "<matplotlib.figure.Figure at 0x7f4232332b50>"
      ]
     },
     "metadata": {},
     "output_type": "display_data"
    }
   ],
   "source": [
    "h=plt.hist(pD,100)"
   ]
  },
  {
   "cell_type": "code",
   "execution_count": null,
   "metadata": {
    "scrolled": true
   },
   "outputs": [
    {
     "name": "stdout",
     "output_type": "stream",
     "text": [
      "99.9999852611\n",
      "*****************************************************************\n",
      "------Leaf errors --------- \n",
      "{2: 99.999638445827372, 5: 99.999957120598538, 7: 99.999933651256029, 8: 99.999879722422946, 10: 99.999123420096197, 11: 99.999957717614905, 14: 99.999946491587693, 17: 99.999948715478467, 18: 99.999998236506968, 20: 99.999912318824542, 21: 99.999853595890386, 23: 99.99995487073997, 24: 99.999939773649714}\n",
      "--------------------------- \n",
      "[  4.08233100e+02   5.51594095e+01   4.24251817e+01   5.89004411e-03\n",
      "   8.34586356e-01   9.26845363e+00]\n",
      "#cluster =  20\n",
      "meanprob =  0.00011779689427  c =  0.275275275275 2.60338800291e+22\n",
      "meanprob =  0.00811700203557  c =  2.28728728729 0.00812707128924\n"
     ]
    },
    {
     "name": "stderr",
     "output_type": "stream",
     "text": [
      "/usr/local/lib/python2.7/dist-packages/ipykernel_launcher.py:536: RuntimeWarning: invalid value encountered in sqrt\n",
      "/usr/local/lib/python2.7/dist-packages/ipykernel_launcher.py:536: RuntimeWarning: divide by zero encountered in double_scalars\n"
     ]
    },
    {
     "name": "stdout",
     "output_type": "stream",
     "text": [
      "meanprob =  0.000177656561422  c =  1e-15 nan\n",
      "meanprob =  0.00192274366398  c =  0.29029029029 4.91548244912e+14\n",
      "meanprob =  0.00175127044712  c =  1.53653653654 445934.81284\n",
      "meanprob =  0.000233482679856  c =  1e-15 inf\n",
      "meanprob =  0.00113835732708  c =  1.49149149149 9.35403557587e+19\n",
      "meanprob =  0.000700207189094  c =  1e-15 nan\n",
      "meanprob =  0.00450498112419  c =  5.0 0.0437114095956\n",
      "meanprob =  0.000919703013011  c =  0.28028028028 1.00880655231e+23\n",
      "meanprob =  0.00182638587231  c =  1e-15 2.19244234045e+73\n",
      "meanprob =  5.62155569303e-05  c =  1e-15 inf\n",
      "meanprob =  0.00178411236022  c =  1e-15 nan\n",
      "meanprob =  0.00413344299249  c =  1e-15 nan\n",
      "meanprob =  0.00105041903434  c =  0.28028028028 9.80395293403e+29\n",
      "meanprob =  0.00369560264513  c =  1e-15 1.80183976869e+75\n",
      "meanprob =  0.000539229303032  c =  1e-15 inf\n",
      "meanprob =  0.00687898769069  c =  0.00500500500501 8.48036752116e+28\n",
      "meanprob =  0.00801119933883  c =  5.0 0.124157727704\n",
      "meanprob =  0.000197176010928  c =  0.630630630631 4.85861634971e+40\n",
      "NYclusts =  3\n",
      "prev N =  1\n",
      "old N =  1 1\n",
      "append N =  4 4\n",
      "purged N =  4 4\n",
      "thres=  99.9999937437\n"
     ]
    },
    {
     "data": {
      "image/png": "[encoded data removed]",
      "text/plain": [
       "<matplotlib.figure.Figure at 0x7f422be95710>"
      ]
     },
     "metadata": {},
     "output_type": "display_data"
    },
    {
     "data": {
      "image/png": "[encoded data removed]",
      "text/plain": [
       "<matplotlib.figure.Figure at 0x7f422c899f90>"
      ]
     },
     "metadata": {},
     "output_type": "display_data"
    },
    {
     "data": {
      "image/png": "[encoded data removed]",
      "text/plain": [
       "<matplotlib.figure.Figure at 0x7f422ce7ee50>"
      ]
     },
     "metadata": {},
     "output_type": "display_data"
    },
    {
     "name": "stdout",
     "output_type": "stream",
     "text": [
      "*****************************************************************\n",
      "------Leaf errors --------- \n",
      "{2: 99.999991708798348, 3: 99.99976736396728, 8: 99.999868708715852, 9: 99.999981957787469, 11: 99.999950173336657, 12: 99.998282144601205, 13: 99.999480188175241, 16: 98.404813465533607, 18: 99.037318975095673, 19: 92.982339841933509, 22: 99.999937034255936, 23: 99.999952019196854, 25: 99.99995694397262, 26: 99.99995023990337}\n",
      "--------------------------- \n",
      "[ 476.76844845  151.57978801    0.49444447    6.47799147   27.00571387\n",
      "   33.14160798]\n",
      "#cluster =  20\n",
      "meanprob =  0.000157082327651  c =  1e-15 inf\n",
      "meanprob =  0.00157292727116  c =  1e-15 nan\n",
      "meanprob =  0.00199561423869  c =  5.0 0.0104189832822\n",
      "meanprob =  0.000281432753074  c =  1e-15 nan\n",
      "meanprob =  0.00589196242284  c =  0.825825825826 2.61259196681e+39\n",
      "meanprob =  0.00135333911145  c =  1e-15 nan\n",
      "meanprob =  6.1218851508e-06  c =  1e-15 inf\n",
      "meanprob =  0.00125529898458  c =  5.0 0.00417023457704\n",
      "meanprob =  0.000920961170714  c =  1e-15 nan\n",
      "meanprob =  9.96896543622e-05  c =  1e-15 nan\n",
      "meanprob =  0.00210735002306  c =  1e-15 nan\n",
      "meanprob =  0.00267031046126  c =  5.0 0.00545311918224\n",
      "meanprob =  0.0001636995551  c =  0.31031031031 3.39034607568e+29\n",
      "meanprob =  0.00313673175608  c =  2.98298298298 0.00314320109097\n",
      "meanprob =  5.55950955975e-05  c =  1e-15 inf\n",
      "meanprob =  0.00147071715241  c =  5.0 0.0152778717442\n",
      "meanprob =  0.000869294196746  c =  1e-15 nan\n",
      "meanprob =  0.00130095559998  c =  1e-15 nan\n",
      "meanprob =  4.84047848324e-07  c =  1e-15 inf\n",
      "meanprob =  0.000363181100597  c =  1e-15 inf\n",
      "NYclusts =  5\n",
      "prev N =  4\n",
      "old N =  4 4\n",
      "append N =  9 9\n",
      "purged N =  9 9\n",
      "thres=  3.92765203401\n"
     ]
    },
    {
     "data": {
      "image/png": "[encoded data removed]",
      "text/plain": [
       "<matplotlib.figure.Figure at 0x7f422c899f50>"
      ]
     },
     "metadata": {},
     "output_type": "display_data"
    },
    {
     "data": {
      "image/png": "[encoded data removed]",
      "text/plain": [
       "<matplotlib.figure.Figure at 0x7f422dd2d290>"
      ]
     },
     "metadata": {},
     "output_type": "display_data"
    },
    {
     "name": "stdout",
     "output_type": "stream",
     "text": [
      "*****************************************************************\n",
      "------Leaf errors --------- \n",
      "{2: 0.58697793773743057, 4: 0.53599274408820685, 7: 1.5786329480271672, 8: 0.75945259995780579, 9: 1.4153609470202573, 14: 1.976897258157654, 15: 1.8614252070555444, 17: 3.0255399299139518, 18: 0.87292249426815394, 20: 0.54872787159349889, 22: 1.3939039614733755, 23: 0.84290969436375407, 26: 1.1914326766158951, 27: 0.82167530452710258, 28: 0.5033626036320078}\n",
      "--------------------------- \n",
      "[  0.48249466   1.83373783  50.54262444  25.59320221  37.23572962\n",
      "  35.99598393]\n",
      "#cluster =  20\n",
      "meanprob =  0.0222936869963  c =  0.27027027027 0.022206464755\n",
      "meanprob =  0.0268262734955  c =  0.275275275275 0.0261267772898\n",
      "meanprob =  0.053212606177  c =  0.245245245245 0.0542974035272\n",
      "meanprob =  0.0111938343612  c =  0.37037037037 0.0113984858393\n",
      "meanprob =  0.0214121787767  c =  0.3003003003 0.0209088411945\n",
      "meanprob =  0.0382369990506  c =  0.28028028028 0.0392443918183\n",
      "meanprob =  0.0214974555187  c =  0.29029029029 0.021546389369\n",
      "meanprob =  0.0108768049773  c =  0.275275275275 0.0110594174515\n",
      "meanprob =  0.0378327672645  c =  0.25025025025 0.0381664066129\n",
      "meanprob =  0.0499445156636  c =  0.23023023023 0.048859151084\n",
      "meanprob =  0.0378968442537  c =  0.29029029029 0.0370259436164\n",
      "meanprob =  0.0356842711092  c =  0.305305305305 0.0352483142093\n",
      "meanprob =  0.00851403050256  c =  0.285285285285 0.00871560861887\n",
      "meanprob =  0.0169812463379  c =  0.285285285285 0.0172306018184\n",
      "meanprob =  0.0409856959386  c =  0.235235235235 0.040250877605\n",
      "meanprob =  0.0103205145609  c =  0.3003003003 0.0102455025192\n",
      "meanprob =  0.0276748883244  c =  0.285285285285 0.0273305976872\n",
      "meanprob =  0.0125529181884  c =  0.265265265265 0.0127345362114\n",
      "meanprob =  0.0462825136636  c =  0.265265265265 0.046425465426\n",
      "meanprob =  0.00789410213558  c =  0.43043043043 0.00790213132867\n",
      "NYclusts =  20\n",
      "prev N =  9\n",
      "old N =  9 9\n",
      "append N =  29 29\n",
      "purged N =  29 29\n",
      "thres=  99.9999992108\n"
     ]
    },
    {
     "data": {
      "image/png": "[encoded data removed]",
      "text/plain": [
       "<matplotlib.figure.Figure at 0x7f423207d0d0>"
      ]
     },
     "metadata": {},
     "output_type": "display_data"
    },
    {
     "data": {
      "image/png": "[encoded data removed]",
      "text/plain": [
       "<matplotlib.figure.Figure at 0x7f422d726790>"
      ]
     },
     "metadata": {},
     "output_type": "display_data"
    },
    {
     "name": "stdout",
     "output_type": "stream",
     "text": [
      "*****************************************************************\n",
      "------Leaf errors --------- \n",
      "{3: 99.999724746742004, 6: 99.999900778400985, 7: 99.998717124055972, 8: 99.995122741184687, 10: 99.9996589007323, 11: 99.999777856624902, 16: 99.995226335739616, 17: 99.975368213354415, 19: 99.99865554443609, 20: 99.706126930344666, 23: 99.777271610621483, 24: 99.999991986192313, 26: 99.957768001477277, 27: 99.966535627758773, 29: 99.965495292469939, 30: 99.999996833533388}\n",
      "--------------------------- \n",
      "[ 316.05554966   52.63425891    3.37109904   22.9367434    13.43314045\n",
      "   16.44026244]\n",
      "#cluster =  20\n",
      "meanprob =  0.00485040146413  c =  1e-15 nan\n",
      "meanprob =  0.00125511846896  c =  1e-15 nan\n",
      "meanprob =  3.86340589922e-05  c =  1e-15 inf\n",
      "meanprob =  0.000423372450536  c =  0.3003003003 2.70191647156e+39\n",
      "meanprob =  0.000432091912459  c =  0.295295295295 8.89221905772e+30\n",
      "meanprob =  0.00198365085468  c =  1.26126126126 5.98017911312e+21\n",
      "meanprob =  0.000435019668535  c =  0.00500500500501 2.01303289019e+35\n",
      "meanprob =  0.00448086393519  c =  5.0 0.0075650999702\n",
      "meanprob =  0.00359359176132  c =  1e-15 nan\n"
     ]
    }
   ],
   "source": [
    "# py=py/100\n",
    "perctY=80\n",
    "pyest=GMMY.evalaute_probability(Y)\n",
    "pdiff=100*np.abs( np.divide((py-pyest),(py) ) )\n",
    "\n",
    "# pdiff=py\n",
    "\n",
    "thres=np.percentile(np.abs(pdiff),perctY)\n",
    "print thres\n",
    "fig,ax=plt.subplots()\n",
    "h=ax.hist(np.abs(pdiff),np.linspace(0,2*np.percentile(np.abs(pdiff),80),100))\n",
    "\n",
    "Ncnt=200\n",
    "Nsamples=[int(a) for a in np.linspace(70,10,Ncnt)]\n",
    "for cnt in range(Ncnt):\n",
    "    print \"*****************************************************************\"\n",
    "    # first transform the initial X\n",
    "    \n",
    "\n",
    "\n",
    "    clf,nodepaths,leafnodes,Xleafids,Xclass,Xclass_errors= getclassifiedregions(pdiff,thres,Y,rndT=10+cnt,min_samples_leaf=Nsamples[cnt],max_depth=5)\n",
    "    print \"------Leaf errors --------- \"\n",
    "    print Xclass_errors\n",
    "    print \"--------------------------- \"\n",
    "\n",
    "\n",
    "    # get the leaf with max error\n",
    "#     LeafmaxErrorId=0\n",
    "#     mlf=0.0\n",
    "#     for key,value in Xclass_errors.items():\n",
    "#         if value >mlf:\n",
    "#             LeafmaxErrorId=key\n",
    "#             mlf=value\n",
    "    \n",
    "    LeafmaxErrorId=sorted(Xclass_errors.items(),key=lambda x: x[1],reverse=True)[0][0]\n",
    "    \n",
    "    # split this leaf using kmeans\n",
    "    YY=Y[Xleafids==LeafmaxErrorId,:].copy()\n",
    "    ppY=py[Xleafids==LeafmaxErrorId].copy()\n",
    "    NYclusts,Yclustids,A=fitclusters(YY,w=None)\n",
    "    Ynewmeans,Ynewcovs=getpartitionMeanCovs(YY,Yclustids,probs=ppY)\n",
    "    NYclusts=len(Ynewmeans)\n",
    "    print \"NYclusts = \",NYclusts\n",
    "    print \"prev N = \",GMMY.N\n",
    "    wnew=np.ones(NYclusts)/NYclusts\n",
    "#     print \"append w = \",wnew\n",
    "#     print \"appending means \",Ynewmeans\n",
    "    print \"old N = \",GMMY.N,len(GMMY.means)\n",
    "    GMMY.AppendComponents(wnew,Ynewmeans,Ynewcovs )\n",
    "    GMMY.scalecovs(1)\n",
    "    print \"append N = \",GMMY.N,len(GMMY.means)\n",
    "    \n",
    "    GMMY.Prune_LowRank()\n",
    "    print \"purged N = \",GMMY.N,len(GMMY.means)\n",
    "    if cnt%5==0:\n",
    "#         GMMY.Prune_byCov()\n",
    "        GMMY.Prune_byweight()\n",
    "\n",
    "\n",
    "    GMMY.optimize_weights_prob(Y,py)\n",
    "#     GMMY.optimize_weights_shitty(Y,py)\n",
    "#     GMMY.normalize_weights()\n",
    "    \n",
    "#     print \"w = \",GMMY.weights\n",
    "        \n",
    "#     XLeafiddf=pd.DataFrame({'ids':Xleafids})\n",
    "#     lastid=max(Xleafids)\n",
    "#     print \"lastid = \",lastid\n",
    "#     print \"LeafmaxErrorId = \",LeafmaxErrorId\n",
    "#     indX2mod=XLeafiddf[XLeafiddf['ids']==LeafmaxErrorId].index\n",
    "\n",
    "#     indyy=Yclustids!=0\n",
    "#     Yclustids[indyy]=Yclustids[indyy]+lastid\n",
    "#     XLeafiddf.loc[indX2mod,'ids']=Yclustids\n",
    "#     Xleafids=XLeafiddf['ids'].tolist()\n",
    "#     newmeans,newcovs=getpartitionMeanCovs(X0,Xleafids)\n",
    "\n",
    "\n",
    "#     ##  New X means\n",
    "#     GMMX=GaussMixModel(np.ones(len(newmeans))/len(newmeans),newmeans,newcovs)\n",
    "#     GMMX.optimize_weights_original(X0,Mu0,P0)\n",
    "#     print \"optimized weights = \", GMMX.weights\n",
    "#     plt.figure()\n",
    "#     plt.plot(X0[:,0],X0[:,1],'bo')\n",
    "#     GMMX.plotcomp_ellipsoids(1)\n",
    "#     GMMY=transformGMM(GMMX,F)\n",
    "\n",
    "    pyest=GMMY.evalaute_probability(Y)\n",
    "    if cnt%2==0:\n",
    "        pdiff=100*np.abs( np.divide((py-pyest),py) )\n",
    "    else:\n",
    "        pdiff=100*np.abs( np.divide((py-pyest),1) )\n",
    "    thres=np.percentile(np.abs(pdiff),perctY)\n",
    "    print \"thres= \",thres\n",
    "#     pdiff=py\n",
    "    \n",
    "    plt.figure()\n",
    "    plt.plot(Y[:,0],Y[:,1],'bo')\n",
    "    plt.plot(YY[:,0],YY[:,1],'r*')\n",
    "    GMMY.plotcomp_ellipsoids(1,dims=[0,1])\n",
    "\n",
    "    fig,ax=plt.subplots()\n",
    "    h=ax.hist(np.abs(pdiff),np.linspace(np.percentile(np.abs(pdiff),20)/2,2*np.percentile(np.abs(pdiff),80),100))\n",
    "\n",
    "    plt.show()"
   ]
  },
  {
   "cell_type": "code",
   "execution_count": 110,
   "metadata": {},
   "outputs": [
    {
     "data": {
      "text/plain": [
       "array([  1.32716749e-03,   3.51671273e-04,   1.70949695e-04,\n",
       "         5.09401164e-04,   1.09653426e-03,   6.18500971e-04,\n",
       "         1.32716749e-03,   1.32716749e-03,   1.32716749e-03,\n",
       "         1.32716749e-03,   1.32716749e-03,   1.32716749e-03,\n",
       "         1.32716749e-03,   1.32716749e-03,   1.32716749e-03,\n",
       "         1.32716749e-03,   1.32716749e-03,   1.32716749e-03,\n",
       "         1.32716749e-03,   1.32716749e-03,   1.32716749e-03,\n",
       "         1.32716749e-03,   1.32716749e-03,   1.32716749e-03,\n",
       "         1.32716749e-03,   1.32716749e-03,   1.32716749e-03,\n",
       "         1.32716749e-03,   1.23703202e-03,   1.32716749e-03,\n",
       "         1.32716749e-03,   1.32716749e-03,   1.32716749e-03,\n",
       "         1.32716749e-03,   1.32716749e-03,   1.32716749e-03,\n",
       "         1.32716749e-03,   1.32716749e-03,   1.32716749e-03,\n",
       "         1.32716749e-03,   1.02960850e-03,   1.32716749e-03,\n",
       "         1.32716749e-03,   1.32716749e-03,   1.32716749e-03,\n",
       "         1.32716749e-03,   1.32716749e-03,   1.32716749e-03,\n",
       "         1.32716749e-03,   1.32716749e-03,   1.32716749e-03,\n",
       "         1.32716749e-03,   1.32716749e-03,   1.32716749e-03,\n",
       "         1.32716749e-03,   1.32716749e-03,   1.32716749e-03,\n",
       "         1.32716749e-03,   1.32716749e-03,   1.32716749e-03,\n",
       "         1.32716749e-03,   1.32716749e-03,   1.32716749e-03,\n",
       "         1.32716749e-03,   1.32716749e-03,   1.32716749e-03,\n",
       "         1.32716749e-03,   1.32716749e-03,   1.32716749e-03,\n",
       "         1.32716749e-03,   1.32716749e-03,   1.32716749e-03,\n",
       "         1.32716749e-03,   1.32716749e-03,   1.32716749e-03,\n",
       "         1.32716749e-03,   1.32716749e-03,   1.32716749e-03,\n",
       "         1.32716749e-03,   1.32716749e-03,   1.32716749e-03,\n",
       "         1.32716749e-03,   1.32716749e-03,   1.32716749e-03,\n",
       "         1.00057143e-03,   1.32716749e-03,   1.32716749e-03,\n",
       "         1.32716749e-03,   1.32716749e-03,   1.32716749e-03,\n",
       "         1.32716749e-03,   1.32716749e-03,   1.32716749e-03,\n",
       "         1.32716749e-03,   1.32716749e-03,   1.32716749e-03,\n",
       "         1.32716749e-03,   1.32716749e-03,   1.32716749e-03,\n",
       "         1.32716749e-03,   1.32716749e-03,   1.32716749e-03,\n",
       "         1.32716749e-03,   1.32716749e-03,   1.32716749e-03,\n",
       "         1.32716749e-03,   1.32716749e-03,   1.32716749e-03,\n",
       "         1.32716749e-03,   1.32716749e-03,   1.17431349e-03,\n",
       "         1.32716749e-03,   1.32716749e-03,   1.32716749e-03,\n",
       "         1.32716749e-03,   1.32716749e-03,   1.32716749e-03,\n",
       "         1.32716749e-03,   1.32716749e-03,   1.32716749e-03,\n",
       "         1.32716749e-03,   1.32716749e-03,   1.32716749e-03,\n",
       "         1.32716749e-03,   1.32716749e-03,   1.32716749e-03,\n",
       "         1.32716747e-03,   1.32716749e-03,   1.32716749e-03,\n",
       "         1.32716749e-03,   1.32716749e-03,   1.32716749e-03,\n",
       "         1.32716749e-03,   1.32716749e-03,   1.32716749e-03,\n",
       "         1.32716749e-03,   1.32716749e-03,   1.32716749e-03,\n",
       "         1.32716749e-03,   1.32716749e-03,   1.32716749e-03,\n",
       "         1.32716749e-03,   1.32716749e-03,   1.32716749e-03,\n",
       "         1.32716749e-03,   1.32716749e-03,   1.32716749e-03,\n",
       "         1.32716749e-03,   1.32716749e-03,   1.32716749e-03,\n",
       "         1.32716749e-03,   1.32716749e-03,   1.32716749e-03,\n",
       "         1.32716749e-03,   1.32716749e-03,   1.32716749e-03,\n",
       "         1.32716749e-03,   1.32716749e-03,   1.32716749e-03,\n",
       "         1.32716749e-03,   1.32716749e-03,   1.32716749e-03,\n",
       "         1.32716749e-03,   1.32716749e-03,   1.32716749e-03,\n",
       "         1.32716749e-03,   1.32716749e-03,   1.32716749e-03,\n",
       "         1.32716749e-03,   1.32716749e-03,   1.32716749e-03,\n",
       "         1.32716749e-03,   1.32716749e-03,   1.32716749e-03,\n",
       "         1.32716749e-03,   1.32716749e-03,   1.32716749e-03,\n",
       "         1.32716749e-03,   1.32716749e-03,   1.32716749e-03,\n",
       "         1.32716749e-03,   1.32716749e-03,   1.32716749e-03,\n",
       "         1.32716749e-03,   1.32716749e-03,   1.32716749e-03,\n",
       "         1.32716749e-03,   1.32716749e-03,   1.32716749e-03,\n",
       "         1.32716749e-03,   1.32716749e-03,   1.32716749e-03,\n",
       "         1.32716749e-03,   1.32716749e-03,   1.32716749e-03,\n",
       "         1.32716749e-03,   1.32716749e-03,   1.32716749e-03,\n",
       "         1.32716749e-03,   1.32716749e-03,   1.32716749e-03,\n",
       "         1.32716749e-03,   1.32716749e-03,   1.32716749e-03,\n",
       "         1.32716749e-03,   1.32716749e-03,   1.32716749e-03,\n",
       "         1.32716749e-03,   1.32716749e-03,   1.32716749e-03,\n",
       "         1.32716749e-03,   1.32716749e-03,   1.32716749e-03,\n",
       "         1.32716749e-03,   1.32716749e-03,   1.32716749e-03,\n",
       "         1.32716749e-03,   1.26837901e-03,   1.32716749e-03,\n",
       "         1.32716749e-03,   1.32716749e-03,   1.32716749e-03,\n",
       "         1.32716749e-03,   1.32716749e-03,   1.32716749e-03,\n",
       "         1.32716749e-03,   1.32716749e-03,   1.32716749e-03,\n",
       "         1.32716749e-03,   1.32716749e-03,   1.32716749e-03,\n",
       "         1.32716749e-03,   1.32716749e-03,   1.32716749e-03,\n",
       "         1.32716749e-03,   1.32716749e-03,   8.26222893e-04,\n",
       "         1.32716749e-03,   1.30518870e-03,   1.32716749e-03,\n",
       "         1.32716749e-03,   1.32716749e-03,   1.32716749e-03,\n",
       "         1.32716749e-03,   1.32716749e-03,   1.32716749e-03,\n",
       "         1.32716749e-03,   1.32716749e-03,   1.32716749e-03,\n",
       "         1.32716749e-03,   1.32716749e-03,   1.32716749e-03,\n",
       "         1.32716749e-03,   1.32716749e-03,   1.32716749e-03,\n",
       "         1.32716749e-03,   1.32716749e-03,   1.32716749e-03,\n",
       "         1.32716749e-03,   1.32716749e-03,   1.32716749e-03,\n",
       "         1.32716749e-03,   1.32716749e-03,   1.32716749e-03,\n",
       "         1.32716749e-03,   1.32716749e-03,   1.32716749e-03,\n",
       "         1.32716749e-03,   1.32716749e-03,   1.32716749e-03,\n",
       "         1.32716749e-03,   1.32716749e-03,   1.32716749e-03,\n",
       "         1.32716749e-03,   1.32716749e-03,   1.32716749e-03,\n",
       "         1.32716749e-03,   1.32716749e-03,   1.32716749e-03,\n",
       "         1.32716749e-03,   1.32716749e-03,   1.32716749e-03,\n",
       "         1.32716749e-03,   1.32716749e-03,   1.32716749e-03,\n",
       "         1.32716749e-03,   1.32716749e-03,   1.32716749e-03,\n",
       "         1.32716749e-03,   1.32716749e-03,   1.32716749e-03,\n",
       "         1.32716749e-03,   1.32716749e-03,   1.32716749e-03,\n",
       "         1.32716749e-03,   1.32716749e-03,   1.32716749e-03,\n",
       "         1.32716749e-03,   1.32716749e-03,   1.32716749e-03,\n",
       "         1.32716749e-03,   1.32716749e-03,   1.32716749e-03,\n",
       "         1.32716749e-03,   1.32716749e-03,   1.32716749e-03,\n",
       "         1.32716749e-03,   1.32716749e-03,   1.32716749e-03,\n",
       "         1.32716749e-03,   1.32716749e-03,   1.32716749e-03,\n",
       "         1.32716749e-03,   1.32716749e-03,   1.32716749e-03,\n",
       "         1.32716749e-03,   1.32716749e-03,   1.32716749e-03,\n",
       "         1.32716749e-03,   1.32716749e-03,   1.32716749e-03,\n",
       "         1.27259990e-03,   1.32716749e-03,   1.32716749e-03,\n",
       "         1.32716749e-03,   1.32716749e-03,   1.32716749e-03,\n",
       "         1.32716749e-03,   1.32716749e-03,   1.32716749e-03,\n",
       "         1.32716749e-03,   1.32716749e-03,   1.32716749e-03,\n",
       "         1.04788989e-03,   1.32716749e-03,   1.32716749e-03,\n",
       "         1.32716749e-03,   1.32716749e-03,   1.32716749e-03,\n",
       "         1.32716749e-03,   1.32716749e-03,   1.32716749e-03,\n",
       "         1.32716749e-03,   1.32716749e-03,   1.32716749e-03,\n",
       "         1.32716749e-03,   1.32716749e-03,   1.32716749e-03,\n",
       "         1.32716749e-03,   1.32716749e-03,   1.32716749e-03,\n",
       "         1.32716749e-03,   1.32716749e-03,   1.32716749e-03,\n",
       "         1.32716749e-03,   1.32716749e-03,   1.32716749e-03,\n",
       "         1.32716749e-03,   1.32716749e-03,   1.32716749e-03,\n",
       "         1.32716749e-03,   1.32716749e-03,   1.32716749e-03,\n",
       "         1.32716749e-03,   1.32716749e-03,   1.32716749e-03,\n",
       "         1.32716749e-03,   1.32716749e-03,   1.32716749e-03,\n",
       "         1.32716749e-03,   1.32716749e-03,   1.32716749e-03,\n",
       "         1.32716749e-03,   1.32716749e-03,   1.32716749e-03,\n",
       "         1.32716749e-03,   1.32716749e-03,   1.32716749e-03,\n",
       "         1.32716749e-03,   1.32716749e-03,   1.32716749e-03,\n",
       "         1.32716749e-03,   1.32716749e-03,   1.32716749e-03,\n",
       "         1.32716749e-03,   1.32716749e-03,   1.32716749e-03,\n",
       "         1.32716749e-03,   1.32716749e-03,   1.32716749e-03,\n",
       "         1.32716749e-03,   1.32716749e-03,   1.32716749e-03,\n",
       "         1.32716749e-03,   1.32716749e-03,   1.32716749e-03,\n",
       "         1.32716749e-03,   1.32716749e-03,   1.32716749e-03,\n",
       "         1.32716749e-03,   1.32716749e-03,   1.32716749e-03,\n",
       "         1.32716749e-03,   1.32716749e-03,   1.32716749e-03,\n",
       "         1.32716749e-03,   1.32716749e-03,   1.32716749e-03,\n",
       "         1.32716749e-03,   1.32716749e-03,   1.32716749e-03,\n",
       "         1.32716749e-03,   1.32716749e-03,   1.32716749e-03,\n",
       "         1.32716749e-03,   1.32716749e-03,   1.32716749e-03,\n",
       "         1.32716749e-03,   1.32716749e-03,   1.32716749e-03,\n",
       "         1.32716749e-03,   1.32716749e-03,   1.32716749e-03,\n",
       "         1.32716749e-03,   1.32716749e-03,   1.32716749e-03,\n",
       "         1.32716749e-03,   1.32716749e-03,   1.32716749e-03,\n",
       "         1.32716749e-03,   1.32716749e-03,   1.32716749e-03,\n",
       "         1.32716749e-03,   1.32716749e-03,   1.32716749e-03,\n",
       "         1.32716749e-03,   1.32716749e-03,   1.32716749e-03,\n",
       "         1.32716749e-03,   1.32716749e-03,   1.32716749e-03,\n",
       "         1.32716749e-03,   3.37882146e-05,   1.32716749e-03,\n",
       "         1.32716749e-03,   1.32716749e-03,   1.32716749e-03,\n",
       "         1.32716749e-03,   1.32716749e-03,   1.32716749e-03,\n",
       "         1.32716749e-03,   1.32716749e-03,   1.32716749e-03,\n",
       "         1.32716749e-03,   1.32716749e-03,   1.32716749e-03,\n",
       "         1.32716749e-03,   1.32716749e-03,   1.32716749e-03,\n",
       "         1.32716749e-03,   1.32716749e-03,   1.32716749e-03,\n",
       "         1.32716749e-03,   1.32716749e-03,   1.32716749e-03,\n",
       "         1.32716749e-03,   1.32716749e-03,   1.32716749e-03,\n",
       "         1.32716749e-03,   1.32716749e-03,   1.32716749e-03,\n",
       "         1.22596146e-03,   1.32716749e-03,   1.32716749e-03,\n",
       "         1.32716749e-03,   1.32716749e-03,   1.32716749e-03,\n",
       "         1.32716749e-03,   1.32716749e-03,   1.32716749e-03,\n",
       "         1.32716749e-03,   1.32716749e-03,   1.32716749e-03,\n",
       "         6.79460128e-04,   1.32716749e-03,   1.32716749e-03,\n",
       "         1.32716749e-03,   1.32716749e-03,   1.32716749e-03,\n",
       "         1.32716749e-03,   1.32716749e-03,   1.32716749e-03,\n",
       "         1.32716749e-03,   1.32716749e-03,   1.32716749e-03,\n",
       "         1.32716749e-03,   1.32716749e-03,   1.32716749e-03,\n",
       "         1.32716749e-03,   1.32716749e-03,   1.32716749e-03,\n",
       "         1.32716749e-03,   1.32716749e-03,   1.32716749e-03,\n",
       "         1.32716749e-03,   1.32716749e-03,   1.32716749e-03,\n",
       "         1.32716749e-03,   1.32716749e-03,   1.32716749e-03,\n",
       "         6.22808472e-04,   3.42965415e-04,   1.32716749e-03,\n",
       "         1.32716749e-03,   1.32716749e-03,   1.32716749e-03,\n",
       "         1.32716749e-03,   1.32716749e-03,   1.32716749e-03,\n",
       "         1.32716749e-03,   1.32716749e-03,   1.32716749e-03,\n",
       "         1.32716749e-03,   1.32716749e-03,   1.32716749e-03,\n",
       "         1.32716749e-03,   1.32716749e-03,   1.32716749e-03,\n",
       "         1.32716749e-03,   1.32716749e-03,   1.32716749e-03,\n",
       "         1.32716749e-03,   1.32716749e-03,   1.32716749e-03,\n",
       "         1.32716749e-03,   1.32716749e-03,   7.33939479e-05,\n",
       "         1.32716749e-03,   1.32716749e-03,   1.32716749e-03,\n",
       "         1.32716749e-03,   1.32716749e-03,   1.32716749e-03,\n",
       "         1.32716749e-03,   1.32716749e-03,   1.32716749e-03,\n",
       "         1.32716749e-03,   1.32716749e-03,   1.32716749e-03,\n",
       "         1.32716749e-03,   1.32716749e-03,   1.32716749e-03,\n",
       "         1.32716749e-03,   1.32716749e-03,   1.32716749e-03,\n",
       "         1.32716749e-03,   1.32716749e-03,   1.32716749e-03,\n",
       "         1.32716749e-03,   1.32716749e-03,   1.32716749e-03,\n",
       "         1.32716749e-03,   1.32716749e-03,   1.32716749e-03,\n",
       "         1.32716749e-03,   1.32716749e-03,   6.42403054e-04,\n",
       "         1.32716749e-03,   1.32716749e-03,   1.32716749e-03,\n",
       "         1.32716749e-03,   1.32716749e-03,   1.32716749e-03,\n",
       "         1.32716749e-03,   1.32716749e-03,   1.32716749e-03,\n",
       "         1.32716749e-03,   1.32716749e-03,   1.32716749e-03,\n",
       "         1.32716749e-03,   1.32716749e-03,   1.32716749e-03,\n",
       "         1.32716749e-03,   1.32716749e-03,   1.32716749e-03,\n",
       "         1.32716749e-03,   1.32716749e-03,   1.32716749e-03,\n",
       "         1.32716749e-03,   1.32716749e-03,   1.32716749e-03,\n",
       "         1.32716749e-03,   1.32716749e-03,   1.32716749e-03,\n",
       "         1.32716749e-03,   1.32716749e-03,   1.32716749e-03,\n",
       "         1.32716749e-03,   1.32716749e-03,   1.32716749e-03,\n",
       "         1.32716749e-03,   1.32716749e-03,   1.32716749e-03,\n",
       "         1.32716749e-03,   1.32716749e-03,   1.32716749e-03,\n",
       "         1.32716749e-03,   2.42487577e-05,   8.19315298e-04,\n",
       "         5.86498499e-04,   1.32716749e-03,   1.32716749e-03,\n",
       "         1.32716749e-03,   1.13010155e-03,   1.32716749e-03,\n",
       "         1.32716749e-03,   1.32716749e-03,   1.32716749e-03,\n",
       "         1.32716749e-03,   1.32716749e-03,   1.32716749e-03,\n",
       "         1.32716749e-03,   1.32716749e-03,   1.32716749e-03,\n",
       "         1.32716749e-03,   1.32716749e-03,   1.32716749e-03,\n",
       "         1.32716749e-03,   1.32716749e-03,   1.32716749e-03,\n",
       "         1.32716749e-03,   7.28620688e-04,   1.32716749e-03,\n",
       "         1.32716749e-03,   1.32716749e-03,   1.00759799e-03,\n",
       "         1.32716749e-03,   1.32716749e-03,   1.32716749e-03,\n",
       "         1.32716749e-03,   1.32716749e-03,   1.32716749e-03,\n",
       "         1.32716749e-03,   1.32716749e-03,   1.32716749e-03,\n",
       "         1.32716749e-03,   1.32716749e-03,   1.32716749e-03,\n",
       "         1.32716749e-03,   1.32716749e-03,   1.32716749e-03,\n",
       "         1.32716749e-03,   1.32716749e-03,   1.32716749e-03,\n",
       "         1.32716749e-03,   1.32716749e-03,   1.32716749e-03,\n",
       "         1.32716749e-03,   1.32716749e-03,   1.32716749e-03,\n",
       "         1.32716749e-03,   1.32716749e-03,   1.32716749e-03,\n",
       "         1.32716749e-03,   1.32716749e-03,   1.32716749e-03,\n",
       "         1.32716749e-03,   1.32716749e-03,   1.32716749e-03,\n",
       "         1.32716749e-03,   1.32716749e-03,   1.32716749e-03,\n",
       "         1.32716749e-03,   1.32716749e-03,   1.32716749e-03,\n",
       "         1.32716749e-03,   1.32716749e-03,   1.32716749e-03,\n",
       "         1.32716749e-03,   1.32716749e-03,   1.32716749e-03,\n",
       "         1.32716749e-03,   1.32716749e-03,   1.32716749e-03,\n",
       "         1.32716749e-03,   1.32716749e-03,   1.32716749e-03,\n",
       "         1.32716749e-03,   1.32716749e-03,   1.32716749e-03,\n",
       "         1.32716749e-03,   1.32716749e-03,   1.32716749e-03,\n",
       "         1.32716749e-03,   1.32716749e-03,   1.32716749e-03,\n",
       "         1.24516754e-04,   1.32716749e-03,   1.32716749e-03,\n",
       "         1.32716749e-03,   1.32716749e-03,   1.32716749e-03,\n",
       "         1.32716749e-03,   1.32716749e-03,   1.32716749e-03,\n",
       "         1.32716749e-03,   1.32716749e-03,   1.32716749e-03,\n",
       "         1.32716749e-03,   1.32716749e-03,   1.32716749e-03,\n",
       "         1.32716749e-03,   1.32716749e-03,   1.32716749e-03,\n",
       "         1.32716749e-03,   1.32716749e-03,   1.32716749e-03,\n",
       "         1.32716749e-03,   1.32716749e-03,   1.32716749e-03,\n",
       "         1.32716749e-03,   1.32716749e-03,   1.32716749e-03,\n",
       "         1.32716749e-03,   1.32716749e-03,   1.32716749e-03,\n",
       "         3.08885443e-04,   1.32716749e-03,   1.32716749e-03,\n",
       "         1.32716749e-03,   1.32716749e-03,   1.32716749e-03,\n",
       "         1.32716749e-03,   1.32716749e-03,   1.32716749e-03,\n",
       "         1.32716749e-03,   1.32716749e-03,   1.32716749e-03,\n",
       "         1.32716749e-03,   1.32716749e-03,   1.32716749e-03,\n",
       "         1.32716749e-03,   1.32716749e-03,   1.32716749e-03,\n",
       "         1.32716749e-03,   1.32716749e-03,   1.32716749e-03,\n",
       "         1.32716749e-03,   1.32716749e-03,   1.22341422e-03,\n",
       "         1.32716749e-03,   1.32716749e-03,   1.32716749e-03,\n",
       "         1.32716749e-03,   1.32716749e-03,   1.32716749e-03,\n",
       "         1.70943209e-24,   1.32716749e-03,   1.32716749e-03,\n",
       "         1.32716749e-03,   1.32716749e-03,   1.32716749e-03,\n",
       "         7.21883121e-04,   1.32716749e-03,   1.32716749e-03,\n",
       "         1.32716749e-03,   1.32716749e-03,   1.32716749e-03])"
      ]
     },
     "execution_count": 110,
     "metadata": {},
     "output_type": "execute_result"
    }
   ],
   "source": [
    "GMMY.weights"
   ]
  },
  {
   "cell_type": "code",
   "execution_count": 137,
   "metadata": {
    "scrolled": true
   },
   "outputs": [
    {
     "data": {
      "image/png": "[encoded data removed]",
      "text/plain": [
       "<matplotlib.figure.Figure at 0x7fccdc92d3d0>"
      ]
     },
     "metadata": {},
     "output_type": "display_data"
    }
   ],
   "source": [
    "plt.figure()\n",
    "dims=[0,1]\n",
    "plt.plot(YD[:,dims[0]],YD[:,dims[1]],'bo')\n",
    "GMMY.plotcomp_ellipsoids(1,dims=dims)"
   ]
  },
  {
   "cell_type": "code",
   "execution_count": null,
   "metadata": {
    "collapsed": true
   },
   "outputs": [],
   "source": [
    "GMM1=MakeGMMcopy(GMMY)\n",
    "X=GMM1.randomsamples(2000)\n",
    "pp=GMM1.evalaute_probability(X)"
   ]
  },
  {
   "cell_type": "code",
   "execution_count": 165,
   "metadata": {},
   "outputs": [
    {
     "data": {
      "text/plain": [
       "array([    3262.72088344,   331576.1037455 ,   891678.28996226, ...,\n",
       "          46078.79173684,    17896.33364976,  2637833.02262757])"
      ]
     },
     "execution_count": 165,
     "metadata": {},
     "output_type": "execute_result"
    }
   ],
   "source": [
    "pp"
   ]
  },
  {
   "cell_type": "code",
   "execution_count": 166,
   "metadata": {},
   "outputs": [
    {
     "data": {
      "text/plain": [
       "array([  2.94810279e+04,   3.17339050e+05,   9.60200573e+04, ...,\n",
       "         5.56801618e-01,   1.81630605e+05,   1.32128197e+01])"
      ]
     },
     "execution_count": 166,
     "metadata": {},
     "output_type": "execute_result"
    }
   ],
   "source": [
    "py"
   ]
  },
  {
   "cell_type": "code",
   "execution_count": 164,
   "metadata": {},
   "outputs": [
    {
     "data": {
      "text/plain": [
       "[<mpl_toolkits.mplot3d.art3d.Line3D at 0x7fccdf404950>]"
      ]
     },
     "execution_count": 164,
     "metadata": {},
     "output_type": "execute_result"
    },
    {
     "data": {
      "image/png": "[encoded data removed]",
      "text/plain": [
       "<matplotlib.figure.Figure at 0x7fccdee04d90>"
      ]
     },
     "metadata": {},
     "output_type": "display_data"
    }
   ],
   "source": [
    "import matplotlib.pyplot as plt\n",
    "from mpl_toolkits.mplot3d import Axes3D\n",
    "fig = plt.figure()\n",
    "ax = fig.add_subplot(111, projection='3d')\n",
    "ax.plot(X[:,0],X[:,1],pp,'bo')"
   ]
  },
  {
   "cell_type": "code",
   "execution_count": 157,
   "metadata": {},
   "outputs": [
    {
     "data": {
      "text/plain": [
       "array([  4.85008299e+02,   8.47529747e+00,  -5.81284266e+01,\n",
       "         8.50310297e-02,  -8.09100301e-02,   5.84105897e-01])"
      ]
     },
     "execution_count": 157,
     "metadata": {},
     "output_type": "execute_result"
    }
   ],
   "source": [
    "M=GMM1.means[1]\n",
    "M\n",
    "X[20,:]-M"
   ]
  },
  {
   "cell_type": "code",
   "execution_count": 50,
   "metadata": {},
   "outputs": [
    {
     "name": "stdout",
     "output_type": "stream",
     "text": [
      "0.0890109326808\n",
      "0.0746834503189\n",
      "0.108839346702\n"
     ]
    }
   ],
   "source": [
    "u * np.diag(s) * v"
   ]
  },
  {
   "cell_type": "code",
   "execution_count": 63,
   "metadata": {},
   "outputs": [
    {
     "data": {
      "image/png": "[encoded data removed]",
      "text/plain": [
       "<matplotlib.figure.Figure at 0x7fc6afc73ad0>"
      ]
     },
     "metadata": {},
     "output_type": "display_data"
    }
   ],
   "source": [
    "from sklearn.cluster import KMeans\n",
    "\n",
    "\n",
    "Ncls=15\n",
    "kmeans = KMeans(n_clusters=Ncls, random_state=0).fit(Y)\n",
    "Xids=kmeans.labels_\n",
    "labels=range(Ncls)\n",
    "\n",
    "# GMMY=transformGMM(GMMX,F)\n",
    "Ynewmeans,Ynewcovs=getpartitionMeanCovs(Y,Xids)\n",
    "GMMY=GaussMixModel(np.ones(Ncls)/Ncls,Ynewmeans,Ynewcovs)\n",
    "# GMMY.optimize_weights_prob(Y,py)\n",
    "\n",
    "# pyest=GMMY.evalaute_probability(Y)\n",
    "# pdiff=100*np.abs( np.divide((py-pyest),(py) ) )\n",
    "\n",
    "# thres=np.percentile(np.abs(pdiff),perctY)\n",
    "# print thres\n",
    "# fig,ax=plt.subplots()\n",
    "# h=ax.hist(np.abs(pdiff),np.linspace(0,2*np.percentile(np.abs(pdiff),80),100))\n",
    "\n",
    "\n",
    "# p=coloriter()            \n",
    "# plt.figure()\n",
    "# for lfn in labels:\n",
    "#     plt.plot(X0[Xids==lfn,0],X0[Xids==lfn,1],next(p))\n",
    "# # plt.plot(Xextra[:,0],Xextra[:,1],'*')\n",
    "\n",
    "p=coloriter()  \n",
    "plt.figure()\n",
    "for lfn in labels:\n",
    "    plt.plot(Y[Xids==lfn,0],Y[Xids==lfn,1],next(p))\n",
    "GMMY.plotcomp_ellipsoids(1)\n",
    "\n",
    "# newmeans,newcovs=getpartitionMeanCovs(X0,Xids)\n",
    "\n",
    "\n",
    "# Xnewmeans,Xnewcovs=getpartitionMeanCovs(X0,Xids)\n",
    "# GMMX=GaussMixModel(np.ones(Ncls)/Ncls,Xnewmeans,Xnewcovs)\n",
    "# GMMX.optimize_weights_prob(X0,px)\n",
    "# print GMMX.weights\n",
    "# GMMY2=transformGMM(GMMX,F)\n",
    "\n",
    "# p=coloriter()            \n",
    "# plt.figure()\n",
    "# for lfn in labels:\n",
    "#     plt.plot(X0[Xids==lfn,0],X0[Xids==lfn,1],next(p))\n",
    "# GMMX.plotcomp_ellipsoids(1)\n",
    "\n",
    "# p=coloriter()  \n",
    "# plt.figure()\n",
    "# for lfn in labels:\n",
    "#     plt.plot(Y[Xids==lfn,0],Y[Xids==lfn,1],next(p))\n",
    "# GMMY2.plotcomp_ellipsoids(1)\n",
    "\n",
    "# pyest=GMMY2.evalaute_probability(Y)\n",
    "# pdiff=100*np.abs( np.divide((py-pyest),(py) ) )\n",
    "\n",
    "# thres=np.percentile(np.abs(pdiff),perctY)\n",
    "# print thres\n",
    "# fig,ax=plt.subplots()\n",
    "# h=ax.hist(np.abs(pdiff),np.linspace(0,2*np.percentile(np.abs(pdiff),80),100))"
   ]
  },
  {
   "cell_type": "code",
   "execution_count": null,
   "metadata": {
    "collapsed": true
   },
   "outputs": [],
   "source": []
  },
  {
   "cell_type": "code",
   "execution_count": 333,
   "metadata": {},
   "outputs": [
    {
     "data": {
      "text/plain": [
       "array([[ 4.        ,  0.        ],\n",
       "       [ 0.        ,  0.27415568]])"
      ]
     },
     "execution_count": 333,
     "metadata": {},
     "output_type": "execute_result"
    }
   ],
   "source": [
    "# adding on the eigen axis\n",
    "Mu0\n",
    "P0\n",
    "def FitXGMM_0I_MUony(vs,Mus):\n",
    "    N=Mus.shape[0]\n",
    "    Mux=Mus[:,0]    \n",
    "    Muy=Mus[:,1]\n",
    "    w=vs[0:N]\n",
    "    sigx=vs[N:2*N]\n",
    "    sigy=vs[2*N:3*N]\n",
    "    F=np.zeros(5)\n",
    "    for i in range(N):\n",
    "        F[0]=F[0]+w[i]*Mux[i]\n",
    "        F[1]=F[1]+w[i]*Muy[i]\n",
    "        \n",
    "        F[2]=F[2]+w[i]*(Mux[i]**2+sigx[i]**2)\n",
    "        F[3]=F[3]+w[i]*(Muy[i]**2+sigy[i]**2)\n",
    "        \n",
    "        F[4]=F[4]+w[i]*(Mux[i]**3+3*Mux[i]*sigx[i]**2)\n",
    "        F[5]=F[5]+w[i]*(Muy[i]**3+3*Muy[i]*sigy[i]**2)\n",
    "        \n",
    "        F[6]=F[6]+w[i]*(Mux[i]**4+6*Mux[i]**2*sigx[i]**2+3*sigx[i]**4)\n",
    "        F[7]=F[7]+w[i]*(Muy[i]**4+6*Muy[i]**2*sigy[i]**2+3*sigy[i]**4)\n",
    "        \n",
    "        "
   ]
  },
  {
   "cell_type": "code",
   "execution_count": 327,
   "metadata": {},
   "outputs": [
    {
     "data": {
      "text/plain": [
       "array([[  5.83708767,  29.05545534],\n",
       "       [-20.54644959,  21.98291329],\n",
       "       [ 23.88327664,  18.28500844],\n",
       "       [ -7.43458736,  29.24686477],\n",
       "       [-26.76313841,  12.43665939],\n",
       "       [ 17.6453375 ,  24.22997151],\n",
       "       [ 28.32177969,   8.89642512],\n",
       "       [ -0.73026475,  30.01835585],\n",
       "       [ 11.84114223,  27.60640045],\n",
       "       [-13.86137254,  26.30251861]])"
      ]
     },
     "execution_count": 327,
     "metadata": {},
     "output_type": "execute_result"
    }
   ],
   "source": [
    "\n",
    "GMMY.means"
   ]
  },
  {
   "cell_type": "code",
   "execution_count": 177,
   "metadata": {},
   "outputs": [
    {
     "data": {
      "text/plain": [
       "array([ 0.16227967,  0.17118335,  0.0862335 ,  0.09302023,  0.08380881,\n",
       "        0.16250811,  0.12652138,  0.11444496])"
      ]
     },
     "execution_count": 177,
     "metadata": {},
     "output_type": "execute_result"
    }
   ],
   "source": [
    "GMMY.weights"
   ]
  },
  {
   "cell_type": "code",
   "execution_count": 134,
   "metadata": {},
   "outputs": [
    {
     "data": {
      "text/plain": [
       "array([ 10.33569357,  31.78261203])"
      ]
     },
     "execution_count": 134,
     "metadata": {},
     "output_type": "execute_result"
    }
   ],
   "source": [
    "GMMY.means[10]"
   ]
  },
  {
   "cell_type": "code",
   "execution_count": 135,
   "metadata": {},
   "outputs": [
    {
     "data": {
      "text/plain": [
       "array([[ 8.98036569, -0.81792693],\n",
       "       [-0.81792693,  1.05439512]])"
      ]
     },
     "execution_count": 135,
     "metadata": {},
     "output_type": "execute_result"
    }
   ],
   "source": [
    "GMMY.covs[10]"
   ]
  },
  {
   "cell_type": "code",
   "execution_count": 164,
   "metadata": {},
   "outputs": [
    {
     "name": "stdout",
     "output_type": "stream",
     "text": [
      "10\n"
     ]
    },
    {
     "data": {
      "text/plain": [
       "array([ 26.16190508, -25.86416413,  13.77155601,  25.26357622,\n",
       "        12.77808019,   0.9093878 ,  30.17802149,  -7.41637032,\n",
       "        30.12411914,   9.56063242,  30.05161754,  15.62616974,\n",
       "        23.32157621, -10.59204242,  26.09891951,  -5.60191429,\n",
       "        32.36207623,   1.00656736,  32.06869032,   7.94376701,  32.3192544 ])"
      ]
     },
     "execution_count": 164,
     "metadata": {},
     "output_type": "execute_result"
    }
   ],
   "source": [
    "GMMY.Prune_byweight()\n",
    "print GMMY.N\n",
    "print GMMY.means\n",
    "np.delete(GMMY.means)"
   ]
  },
  {
   "cell_type": "code",
   "execution_count": 168,
   "metadata": {},
   "outputs": [
    {
     "data": {
      "text/plain": [
       "array([[1, 2],\n",
       "       [5, 6]])"
      ]
     },
     "execution_count": 168,
     "metadata": {},
     "output_type": "execute_result"
    }
   ],
   "source": [
    "a=np.array( [[1,2],[3,4],[5,6]] )\n",
    "np.delete(a,1,axis=0)"
   ]
  },
  {
   "cell_type": "code",
   "execution_count": 41,
   "metadata": {},
   "outputs": [
    {
     "data": {
      "text/plain": [
       "array([[  4.95609597e+05,   9.65000821e+03,  -6.94419962e+04,\n",
       "          9.98905895e+01,  -8.24471810e+01,   5.94233841e+02],\n",
       "       [  9.65000821e+03,   2.62056018e+02,  -1.88157551e+03,\n",
       "          2.67962526e+00,  -1.59796713e+00,   1.15184685e+01],\n",
       "       [ -6.94419962e+04,  -1.88157551e+03,   1.35653680e+04,\n",
       "         -1.93167573e+01,   1.15001464e+01,  -8.28847941e+01],\n",
       "       [  9.98905895e+01,   2.67962526e+00,  -1.93167573e+01,\n",
       "          2.75248018e-02,  -1.65452322e-02,   1.19246947e-01],\n",
       "       [ -8.24471810e+01,  -1.59796713e+00,   1.15001464e+01,\n",
       "         -1.65452322e-02,   1.37164177e-02,  -9.88597341e-02],\n",
       "       [  5.94233841e+02,   1.15184685e+01,  -8.28847941e+01,\n",
       "          1.19246947e-01,  -9.88597341e-02,   7.12526707e-01]])"
      ]
     },
     "execution_count": 41,
     "metadata": {},
     "output_type": "execute_result"
    }
   ],
   "source": [
    "GMMY.covs[0]"
   ]
  },
  {
   "cell_type": "code",
   "execution_count": 45,
   "metadata": {},
   "outputs": [
    {
     "data": {
      "text/plain": [
       "array([[  4.95609597e+05,   9.65000821e+03],\n",
       "       [  9.65000821e+03,   2.62056018e+02]])"
      ]
     },
     "execution_count": 45,
     "metadata": {},
     "output_type": "execute_result"
    }
   ],
   "source": [
    "GMMY.covs[0][0:2,0:2]"
   ]
  },
  {
   "cell_type": "code",
   "execution_count": 50,
   "metadata": {},
   "outputs": [
    {
     "data": {
      "text/plain": [
       "array([[ 495609.59698289,  -69441.99618116],\n",
       "       [ -69441.99618116,   13565.36797648]])"
      ]
     },
     "execution_count": 50,
     "metadata": {},
     "output_type": "execute_result"
    }
   ],
   "source": [
    "GMMY.covs[0][[[0],[2]],[0,2]]"
   ]
  },
  {
   "cell_type": "code",
   "execution_count": 53,
   "metadata": {},
   "outputs": [
    {
     "data": {
      "text/plain": [
       "array([ -9.78457660e+02,   8.31953380e+02,  -5.99614515e+03,\n",
       "         8.43466555e+00,   1.63222738e-01,  -1.17639768e+00])"
      ]
     },
     "execution_count": 53,
     "metadata": {},
     "output_type": "execute_result"
    }
   ],
   "source": [
    "GMMY.means[0]"
   ]
  },
  {
   "cell_type": "code",
   "execution_count": 56,
   "metadata": {},
   "outputs": [
    {
     "ename": "IndexError",
     "evalue": "too many indices for array",
     "output_type": "error",
     "traceback": [
      "\u001b[0;31m---------------------------------------------------------------------------\u001b[0m",
      "\u001b[0;31mIndexError\u001b[0m                                Traceback (most recent call last)",
      "\u001b[0;32m<ipython-input-56-58d37d0f46cd>\u001b[0m in \u001b[0;36m<module>\u001b[0;34m()\u001b[0m\n\u001b[0;32m----> 1\u001b[0;31m \u001b[0mGMMY\u001b[0m\u001b[0;34m.\u001b[0m\u001b[0mmeans\u001b[0m\u001b[0;34m[\u001b[0m\u001b[0;36m0\u001b[0m\u001b[0;34m]\u001b[0m\u001b[0;34m[\u001b[0m\u001b[0;36m0\u001b[0m\u001b[0;34m,\u001b[0m\u001b[0;36m2\u001b[0m\u001b[0;34m]\u001b[0m\u001b[0;34m\u001b[0m\u001b[0m\n\u001b[0m",
      "\u001b[0;31mIndexError\u001b[0m: too many indices for array"
     ]
    }
   ],
   "source": [
    "GMMY.means[0][0,2]"
   ]
  },
  {
   "cell_type": "code",
   "execution_count": 91,
   "metadata": {},
   "outputs": [
    {
     "name": "stdout",
     "output_type": "stream",
     "text": [
      "(12, 6) (6,)\n"
     ]
    },
    {
     "data": {
      "text/plain": [
       "((11, 6), (5,))"
      ]
     },
     "execution_count": 91,
     "metadata": {},
     "output_type": "execute_result"
    }
   ],
   "source": [
    "eigs=np.abs(np.array([np.linalg.eig(P)[0] for P in GMMY.covs]))\n",
    "eigmean=np.mean(eigs,axis=0)\n",
    "eigstd=np.std(eigs,axis=0)\n",
    "\n",
    "print eigs.shape,eigmean.shape\n",
    "\n",
    "i=0\n",
    "eigs=np.delete(eigs,i,axis=0)\n",
    "eigmean=np.delete(eigmean,i)\n",
    "eigstd=np.delete(eigstd,i)\n",
    "\n",
    "eigs.shape,eigmean.shape"
   ]
  },
  {
   "cell_type": "code",
   "execution_count": 86,
   "metadata": {},
   "outputs": [
    {
     "ename": "ValueError",
     "evalue": "operands could not be broadcast together with shapes (6,) (5,) ",
     "output_type": "error",
     "traceback": [
      "\u001b[0;31m---------------------------------------------------------------------------\u001b[0m",
      "\u001b[0;31mValueError\u001b[0m                                Traceback (most recent call last)",
      "\u001b[0;32m<ipython-input-86-8f567ac8c396>\u001b[0m in \u001b[0;36m<module>\u001b[0;34m()\u001b[0m\n\u001b[1;32m      5\u001b[0m     \u001b[0mflg\u001b[0m\u001b[0;34m=\u001b[0m\u001b[0;36m0\u001b[0m\u001b[0;34m\u001b[0m\u001b[0m\n\u001b[1;32m      6\u001b[0m     \u001b[0;32mfor\u001b[0m \u001b[0mi\u001b[0m \u001b[0;32min\u001b[0m \u001b[0mrange\u001b[0m\u001b[0;34m(\u001b[0m\u001b[0mN\u001b[0m\u001b[0;34m)\u001b[0m\u001b[0;34m:\u001b[0m\u001b[0;34m\u001b[0m\u001b[0m\n\u001b[0;32m----> 7\u001b[0;31m         \u001b[0;32mif\u001b[0m \u001b[0mnp\u001b[0m\u001b[0;34m.\u001b[0m\u001b[0many\u001b[0m\u001b[0;34m(\u001b[0m \u001b[0;34m(\u001b[0m\u001b[0mnp\u001b[0m\u001b[0;34m.\u001b[0m\u001b[0mabs\u001b[0m\u001b[0;34m(\u001b[0m\u001b[0meigs\u001b[0m\u001b[0;34m[\u001b[0m\u001b[0mi\u001b[0m\u001b[0;34m,\u001b[0m\u001b[0;34m:\u001b[0m\u001b[0;34m]\u001b[0m\u001b[0;34m-\u001b[0m\u001b[0meigmean\u001b[0m\u001b[0;34m)\u001b[0m\u001b[0;34m-\u001b[0m\u001b[0;36m3\u001b[0m\u001b[0;34m*\u001b[0m\u001b[0meigstd\u001b[0m\u001b[0;34m)\u001b[0m\u001b[0;34m>\u001b[0m\u001b[0;36m0\u001b[0m \u001b[0;34m)\u001b[0m\u001b[0;34m:\u001b[0m\u001b[0;34m\u001b[0m\u001b[0m\n\u001b[0m\u001b[1;32m      8\u001b[0m \u001b[0;31m#             self.purgecomponent(i)\u001b[0m\u001b[0;34m\u001b[0m\u001b[0;34m\u001b[0m\u001b[0m\n\u001b[1;32m      9\u001b[0m             \u001b[0mN\u001b[0m\u001b[0;34m=\u001b[0m\u001b[0mN\u001b[0m\u001b[0;34m-\u001b[0m\u001b[0;36m1\u001b[0m\u001b[0;34m\u001b[0m\u001b[0m\n",
      "\u001b[0;31mValueError\u001b[0m: operands could not be broadcast together with shapes (6,) (5,) "
     ]
    }
   ],
   "source": [
    "eigmean=np.mean(eigs,axis=0)\n",
    "eigstd=np.std(eigs,axis=0)\n",
    "N=GMMY.N\n",
    "while(1):\n",
    "    flg=0\n",
    "    for i in range(N):\n",
    "        if np.any( (np.abs(eigs[i,:]-eigmean)-3*eigstd)>0 ):\n",
    "#             self.purgecomponent(i)\n",
    "            N=N-1\n",
    "            eigs=np.delete(eigs,i,axis=0)\n",
    "            eigmean=np.delete(eigmean,i)\n",
    "            eigstd=np.delete(eigstd,i)\n",
    "\n",
    "            flg=1\n",
    "            break\n",
    "            \n",
    "    if flg==0:\n",
    "        break"
   ]
  },
  {
   "cell_type": "code",
   "execution_count": 255,
   "metadata": {},
   "outputs": [
    {
     "data": {
      "text/plain": [
       "(57, 6)"
      ]
     },
     "execution_count": 255,
     "metadata": {},
     "output_type": "execute_result"
    }
   ],
   "source": [
    "Ynewmeans,Ynewcovs=getpartitionMeanCovs(YY,Yclustids,probs=None)\n",
    "YY.shape"
   ]
  },
  {
   "cell_type": "code",
   "execution_count": 145,
   "metadata": {},
   "outputs": [
    {
     "ename": "NameError",
     "evalue": "name 'MakeGMMcopy' is not defined",
     "output_type": "error",
     "traceback": [
      "\u001b[0;31m---------------------------------------------------------------------------\u001b[0m",
      "\u001b[0;31mNameError\u001b[0m                                 Traceback (most recent call last)",
      "\u001b[0;32m<ipython-input-145-6cc1366f98f3>\u001b[0m in \u001b[0;36m<module>\u001b[0;34m()\u001b[0m\n\u001b[0;32m----> 1\u001b[0;31m \u001b[0mMakeGMMcopy\u001b[0m\u001b[0;34m\u001b[0m\u001b[0m\n\u001b[0m",
      "\u001b[0;31mNameError\u001b[0m: name 'MakeGMMcopy' is not defined"
     ]
    }
   ],
   "source": [
    "MakeGMMcopy"
   ]
  }
 ],
 "metadata": {
  "kernelspec": {
   "display_name": "Python 2",
   "language": "python",
   "name": "python2"
  },
  "language_info": {
   "codemirror_mode": {
    "name": "ipython",
    "version": 2
   },
   "file_extension": ".py",
   "mimetype": "text/x-python",
   "name": "python",
   "nbconvert_exporter": "python",
   "pygments_lexer": "ipython2",
   "version": "2.7.13"
  }
 },
 "nbformat": 4,
 "nbformat_minor": 2
}
