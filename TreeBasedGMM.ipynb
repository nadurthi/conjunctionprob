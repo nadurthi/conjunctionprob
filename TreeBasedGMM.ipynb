{
 "cells": [
  {
   "cell_type": "code",
   "execution_count": 93,
   "metadata": {
    "collapsed": true
   },
   "outputs": [],
   "source": [
    "from __future__ import division\n",
    "%matplotlib inline\n",
    "import matplotlib.pyplot as plt\n",
    "from sklearn import tree\n",
    "import numpy as np\n",
    "import pandas as pd\n",
    "from sklearn import preprocessing\n"
   ]
  },
  {
   "cell_type": "code",
   "execution_count": 118,
   "metadata": {},
   "outputs": [],
   "source": [
    "data = np.genfromtxt('testCRT.csv', delimiter=',')"
   ]
  },
  {
   "cell_type": "code",
   "execution_count": 109,
   "metadata": {},
   "outputs": [],
   "source": [
    "pdiff=data[:,6].copy()\n",
    "pT=data[:,7].copy()\n",
    "Y=100*pdiff/pT\n",
    "X=preprocessing.scale(data[:,:6])\n",
    "m=np.percentile(Y,25)\n",
    "Y[Y<m]=0\n",
    "Y[Y>m]=1"
   ]
  },
  {
   "cell_type": "code",
   "execution_count": 108,
   "metadata": {},
   "outputs": [
    {
     "data": {
      "text/plain": [
       "100.02440480601609"
      ]
     },
     "execution_count": 108,
     "metadata": {},
     "output_type": "execute_result"
    }
   ],
   "source": [
    "np.percentile(Y,25)"
   ]
  },
  {
   "cell_type": "code",
   "execution_count": 106,
   "metadata": {},
   "outputs": [
    {
     "data": {
      "image/png": "[encoded data removed]",
      "text/plain": [
       "<matplotlib.figure.Figure at 0x7febd9d8ea90>"
      ]
     },
     "metadata": {},
     "output_type": "display_data"
    }
   ],
   "source": [
    "fig,ax=plt.subplots()\n",
    "h=ax.hist(Y,np.linspace(99,105,100))\n"
   ]
  },
  {
   "cell_type": "code",
   "execution_count": 67,
   "metadata": {},
   "outputs": [
    {
     "name": "stdout",
     "output_type": "stream",
     "text": [
      "(10000, 6)\n",
      "(10000,)\n"
     ]
    }
   ],
   "source": [
    "print X.shape\n",
    "print Y.shape"
   ]
  },
  {
   "cell_type": "code",
   "execution_count": 110,
   "metadata": {},
   "outputs": [
    {
     "data": {
      "text/plain": [
       "(2500,)"
      ]
     },
     "execution_count": 110,
     "metadata": {},
     "output_type": "execute_result"
    }
   ],
   "source": [
    "Y[Y==0].shape"
   ]
  },
  {
   "cell_type": "code",
   "execution_count": 111,
   "metadata": {},
   "outputs": [],
   "source": [
    "clf = tree.DecisionTreeClassifier(min_samples_leaf=100)\n",
    "clf = clf.fit(X, Y)"
   ]
  },
  {
   "cell_type": "code",
   "execution_count": 112,
   "metadata": {},
   "outputs": [],
   "source": [
    "Ypred=clf.predict(X)"
   ]
  },
  {
   "cell_type": "code",
   "execution_count": 113,
   "metadata": {},
   "outputs": [
    {
     "data": {
      "text/plain": [
       "(8666,)"
      ]
     },
     "execution_count": 113,
     "metadata": {},
     "output_type": "execute_result"
    }
   ],
   "source": [
    "Ypred[Ypred==1].shape"
   ]
  },
  {
   "cell_type": "code",
   "execution_count": 116,
   "metadata": {},
   "outputs": [
    {
     "data": {
      "text/plain": [
       "(-10, 3)"
      ]
     },
     "execution_count": 116,
     "metadata": {},
     "output_type": "execute_result"
    },
    {
     "data": {
      "image/png": "[encoded data removed]",
      "text/plain": [
       "<matplotlib.figure.Figure at 0x7febda11e490>"
      ]
     },
     "metadata": {},
     "output_type": "display_data"
    },
    {
     "data": {
      "image/png": "[encoded data removed]",
      "text/plain": [
       "<matplotlib.figure.Figure at 0x7febd832eb50>"
      ]
     },
     "metadata": {},
     "output_type": "display_data"
    }
   ],
   "source": [
    "ind0=Ypred==0\n",
    "ind1=Ypred==1\n",
    "fig,ax=plt.subplots()\n",
    "ax.plot(X[ind0,0],X[ind0,1],'bo')\n",
    "ax.set_xlim([-5,5])\n",
    "ax.set_ylim([-10,3])\n",
    "fig,ax=plt.subplots()\n",
    "plt.plot(X[ind1,0],X[ind1,1],'rs')\n",
    "ax.set_xlim([-5,5])\n",
    "ax.set_ylim([-10,3])"
   ]
  },
  {
   "cell_type": "code",
   "execution_count": 89,
   "metadata": {
    "scrolled": false
   },
   "outputs": [
    {
     "name": "stdout",
     "output_type": "stream",
     "text": [
      "The binary tree structure has 157 nodes and has the following tree structure:\n",
      "node=0 test node: go to node 1 if X[:, 3] <= -1.72317636013 else to node 10.\n",
      "\tnode=1 test node: go to node 2 if X[:, 0] <= -2.09374380112 else to node 3.\n",
      "\t\tnode=2 leaf node.\n",
      "\t\tnode=3 test node: go to node 4 if X[:, 1] <= -2.1614985466 else to node 7.\n",
      "\t\t\tnode=4 test node: go to node 5 if X[:, 1] <= -2.40895652771 else to node 6.\n",
      "\t\t\t\tnode=5 leaf node.\n",
      "\t\t\t\tnode=6 leaf node.\n",
      "\t\t\tnode=7 test node: go to node 8 if X[:, 1] <= -1.9702808857 else to node 9.\n",
      "\t\t\t\tnode=8 leaf node.\n",
      "\t\t\t\tnode=9 leaf node.\n",
      "\tnode=10 test node: go to node 11 if X[:, 5] <= 1.62293577194 else to node 150.\n",
      "\t\tnode=11 test node: go to node 12 if X[:, 2] <= -0.944502294064 else to node 25.\n",
      "\t\t\tnode=12 test node: go to node 13 if X[:, 1] <= 1.08314490318 else to node 24.\n",
      "\t\t\t\tnode=13 test node: go to node 14 if X[:, 1] <= 0.905338525772 else to node 15.\n",
      "\t\t\t\t\tnode=14 leaf node.\n",
      "\t\t\t\t\tnode=15 test node: go to node 16 if X[:, 3] <= 0.978785634041 else to node 17.\n",
      "\t\t\t\t\t\tnode=16 leaf node.\n",
      "\t\t\t\t\t\tnode=17 test node: go to node 18 if X[:, 3] <= 1.01312553883 else to node 19.\n",
      "\t\t\t\t\t\t\tnode=18 leaf node.\n",
      "\t\t\t\t\t\t\tnode=19 test node: go to node 20 if X[:, 3] <= 1.04662787914 else to node 23.\n",
      "\t\t\t\t\t\t\t\tnode=20 test node: go to node 21 if X[:, 5] <= 1.39827525616 else to node 22.\n",
      "\t\t\t\t\t\t\t\t\tnode=21 leaf node.\n",
      "\t\t\t\t\t\t\t\t\tnode=22 leaf node.\n",
      "\t\t\t\t\t\t\t\tnode=23 leaf node.\n",
      "\t\t\t\tnode=24 leaf node.\n",
      "\t\t\tnode=25 test node: go to node 26 if X[:, 1] <= -0.771493196487 else to node 41.\n",
      "\t\t\t\tnode=26 test node: go to node 27 if X[:, 5] <= -0.93289911747 else to node 40.\n",
      "\t\t\t\t\tnode=27 test node: go to node 28 if X[:, 5] <= -1.41026437283 else to node 29.\n",
      "\t\t\t\t\t\tnode=28 leaf node.\n",
      "\t\t\t\t\t\tnode=29 test node: go to node 30 if X[:, 5] <= -1.28190469742 else to node 31.\n",
      "\t\t\t\t\t\t\tnode=30 leaf node.\n",
      "\t\t\t\t\t\t\tnode=31 test node: go to node 32 if X[:, 4] <= 1.05292201042 else to node 35.\n",
      "\t\t\t\t\t\t\t\tnode=32 test node: go to node 33 if X[:, 5] <= -0.980923295021 else to node 34.\n",
      "\t\t\t\t\t\t\t\t\tnode=33 leaf node.\n",
      "\t\t\t\t\t\t\t\t\tnode=34 leaf node.\n",
      "\t\t\t\t\t\t\t\tnode=35 test node: go to node 36 if X[:, 1] <= -1.06437635422 else to node 39.\n",
      "\t\t\t\t\t\t\t\t\tnode=36 test node: go to node 37 if X[:, 1] <= -1.17382907867 else to node 38.\n",
      "\t\t\t\t\t\t\t\t\t\tnode=37 leaf node.\n",
      "\t\t\t\t\t\t\t\t\t\tnode=38 leaf node.\n",
      "\t\t\t\t\t\t\t\t\tnode=39 leaf node.\n",
      "\t\t\t\t\tnode=40 leaf node.\n",
      "\t\t\t\tnode=41 test node: go to node 42 if X[:, 1] <= 0.927834689617 else to node 147.\n",
      "\t\t\t\t\tnode=42 test node: go to node 43 if X[:, 3] <= -0.725644826889 else to node 44.\n",
      "\t\t\t\t\t\tnode=43 leaf node.\n",
      "\t\t\t\t\t\tnode=44 test node: go to node 45 if X[:, 3] <= -0.611736893654 else to node 48.\n",
      "\t\t\t\t\t\t\tnode=45 test node: go to node 46 if X[:, 4] <= 0.822586297989 else to node 47.\n",
      "\t\t\t\t\t\t\t\tnode=46 leaf node.\n",
      "\t\t\t\t\t\t\t\tnode=47 leaf node.\n",
      "\t\t\t\t\t\t\tnode=48 test node: go to node 49 if X[:, 3] <= -0.116740167141 else to node 70.\n",
      "\t\t\t\t\t\t\t\tnode=49 test node: go to node 50 if X[:, 1] <= -0.103529304266 else to node 69.\n",
      "\t\t\t\t\t\t\t\t\tnode=50 test node: go to node 51 if X[:, 4] <= 0.446403384209 else to node 52.\n",
      "\t\t\t\t\t\t\t\t\t\tnode=51 leaf node.\n",
      "\t\t\t\t\t\t\t\t\t\tnode=52 test node: go to node 53 if X[:, 3] <= -0.242373853922 else to node 68.\n",
      "\t\t\t\t\t\t\t\t\t\t\tnode=53 test node: go to node 54 if X[:, 5] <= -0.526500463486 else to node 67.\n",
      "\t\t\t\t\t\t\t\t\t\t\t\tnode=54 test node: go to node 55 if X[:, 0] <= -0.692470788956 else to node 58.\n",
      "\t\t\t\t\t\t\t\t\t\t\t\t\tnode=55 test node: go to node 56 if X[:, 4] <= 0.72076433897 else to node 57.\n",
      "\t\t\t\t\t\t\t\t\t\t\t\t\t\tnode=56 leaf node.\n",
      "\t\t\t\t\t\t\t\t\t\t\t\t\t\tnode=57 leaf node.\n",
      "\t\t\t\t\t\t\t\t\t\t\t\t\tnode=58 test node: go to node 59 if X[:, 1] <= -0.463468432426 else to node 60.\n",
      "\t\t\t\t\t\t\t\t\t\t\t\t\t\tnode=59 leaf node.\n",
      "\t\t\t\t\t\t\t\t\t\t\t\t\t\tnode=60 test node: go to node 61 if X[:, 1] <= -0.307725548744 else to node 66.\n",
      "\t\t\t\t\t\t\t\t\t\t\t\t\t\t\tnode=61 test node: go to node 62 if X[:, 2] <= 0.403753638268 else to node 65.\n",
      "\t\t\t\t\t\t\t\t\t\t\t\t\t\t\t\tnode=62 test node: go to node 63 if X[:, 1] <= -0.384299099445 else to node 64.\n",
      "\t\t\t\t\t\t\t\t\t\t\t\t\t\t\t\t\tnode=63 leaf node.\n",
      "\t\t\t\t\t\t\t\t\t\t\t\t\t\t\t\t\tnode=64 leaf node.\n",
      "\t\t\t\t\t\t\t\t\t\t\t\t\t\t\t\tnode=65 leaf node.\n",
      "\t\t\t\t\t\t\t\t\t\t\t\t\t\t\tnode=66 leaf node.\n",
      "\t\t\t\t\t\t\t\t\t\t\t\tnode=67 leaf node.\n",
      "\t\t\t\t\t\t\t\t\t\t\tnode=68 leaf node.\n",
      "\t\t\t\t\t\t\t\t\tnode=69 leaf node.\n",
      "\t\t\t\t\t\t\t\tnode=70 test node: go to node 71 if X[:, 5] <= 0.424268603325 else to node 120.\n",
      "\t\t\t\t\t\t\t\t\tnode=71 test node: go to node 72 if X[:, 1] <= 0.6319231987 else to node 119.\n",
      "\t\t\t\t\t\t\t\t\t\tnode=72 test node: go to node 73 if X[:, 1] <= 0.531122922897 else to node 114.\n",
      "\t\t\t\t\t\t\t\t\t\t\tnode=73 test node: go to node 74 if X[:, 1] <= -0.0957421585917 else to node 75.\n",
      "\t\t\t\t\t\t\t\t\t\t\t\tnode=74 leaf node.\n",
      "\t\t\t\t\t\t\t\t\t\t\t\tnode=75 test node: go to node 76 if X[:, 1] <= 0.0487526282668 else to node 81.\n",
      "\t\t\t\t\t\t\t\t\t\t\t\t\tnode=76 test node: go to node 77 if X[:, 3] <= 0.02480712533 else to node 80.\n",
      "\t\t\t\t\t\t\t\t\t\t\t\t\t\tnode=77 test node: go to node 78 if X[:, 3] <= -0.0447101816535 else to node 79.\n",
      "\t\t\t\t\t\t\t\t\t\t\t\t\t\t\tnode=78 leaf node.\n",
      "\t\t\t\t\t\t\t\t\t\t\t\t\t\t\tnode=79 leaf node.\n",
      "\t\t\t\t\t\t\t\t\t\t\t\t\t\tnode=80 leaf node.\n",
      "\t\t\t\t\t\t\t\t\t\t\t\t\tnode=81 test node: go to node 82 if X[:, 2] <= -0.056097920984 else to node 113.\n",
      "\t\t\t\t\t\t\t\t\t\t\t\t\t\tnode=82 test node: go to node 83 if X[:, 2] <= -0.170458912849 else to node 108.\n",
      "\t\t\t\t\t\t\t\t\t\t\t\t\t\t\tnode=83 test node: go to node 84 if X[:, 1] <= 0.161233603954 else to node 85.\n",
      "\t\t\t\t\t\t\t\t\t\t\t\t\t\t\t\tnode=84 leaf node.\n",
      "\t\t\t\t\t\t\t\t\t\t\t\t\t\t\t\tnode=85 test node: go to node 86 if X[:, 2] <= -0.233056515455 else to node 107.\n",
      "\t\t\t\t\t\t\t\t\t\t\t\t\t\t\t\t\tnode=86 test node: go to node 87 if X[:, 4] <= -0.189837634563 else to node 92.\n",
      "\t\t\t\t\t\t\t\t\t\t\t\t\t\t\t\t\t\tnode=87 test node: go to node 88 if X[:, 1] <= 0.420805096626 else to node 89.\n",
      "\t\t\t\t\t\t\t\t\t\t\t\t\t\t\t\t\t\t\tnode=88 leaf node.\n",
      "\t\t\t\t\t\t\t\t\t\t\t\t\t\t\t\t\t\t\tnode=89 test node: go to node 90 if X[:, 1] <= 0.486563175917 else to node 91.\n",
      "\t\t\t\t\t\t\t\t\t\t\t\t\t\t\t\t\t\t\t\tnode=90 leaf node.\n",
      "\t\t\t\t\t\t\t\t\t\t\t\t\t\t\t\t\t\t\t\tnode=91 leaf node.\n",
      "\t\t\t\t\t\t\t\t\t\t\t\t\t\t\t\t\t\tnode=92 test node: go to node 93 if X[:, 1] <= 0.447627454996 else to node 106.\n",
      "\t\t\t\t\t\t\t\t\t\t\t\t\t\t\t\t\t\t\tnode=93 test node: go to node 94 if X[:, 1] <= 0.350720763206 else to node 101.\n",
      "\t\t\t\t\t\t\t\t\t\t\t\t\t\t\t\t\t\t\t\tnode=94 test node: go to node 95 if X[:, 2] <= -0.351630806923 else to node 96.\n",
      "\t\t\t\t\t\t\t\t\t\t\t\t\t\t\t\t\t\t\t\t\tnode=95 leaf node.\n",
      "\t\t\t\t\t\t\t\t\t\t\t\t\t\t\t\t\t\t\t\t\tnode=96 test node: go to node 97 if X[:, 3] <= 0.27691206336 else to node 98.\n",
      "\t\t\t\t\t\t\t\t\t\t\t\t\t\t\t\t\t\t\t\t\t\tnode=97 leaf node.\n",
      "\t\t\t\t\t\t\t\t\t\t\t\t\t\t\t\t\t\t\t\t\t\tnode=98 test node: go to node 99 if X[:, 4] <= -0.0414381250739 else to node 100.\n",
      "\t\t\t\t\t\t\t\t\t\t\t\t\t\t\t\t\t\t\t\t\t\t\tnode=99 leaf node.\n",
      "\t\t\t\t\t\t\t\t\t\t\t\t\t\t\t\t\t\t\t\t\t\t\tnode=100 leaf node.\n",
      "\t\t\t\t\t\t\t\t\t\t\t\t\t\t\t\t\t\t\t\tnode=101 test node: go to node 102 if X[:, 3] <= 0.341404020786 else to node 103.\n",
      "\t\t\t\t\t\t\t\t\t\t\t\t\t\t\t\t\t\t\t\t\tnode=102 leaf node.\n",
      "\t\t\t\t\t\t\t\t\t\t\t\t\t\t\t\t\t\t\t\t\tnode=103 test node: go to node 104 if X[:, 1] <= 0.400039374828 else to node 105.\n",
      "\t\t\t\t\t\t\t\t\t\t\t\t\t\t\t\t\t\t\t\t\t\tnode=104 leaf node.\n",
      "\t\t\t\t\t\t\t\t\t\t\t\t\t\t\t\t\t\t\t\t\t\tnode=105 leaf node.\n",
      "\t\t\t\t\t\t\t\t\t\t\t\t\t\t\t\t\t\t\tnode=106 leaf node.\n",
      "\t\t\t\t\t\t\t\t\t\t\t\t\t\t\t\t\tnode=107 leaf node.\n",
      "\t\t\t\t\t\t\t\t\t\t\t\t\t\t\tnode=108 test node: go to node 109 if X[:, 2] <= -0.141567721963 else to node 110.\n",
      "\t\t\t\t\t\t\t\t\t\t\t\t\t\t\t\tnode=109 leaf node.\n",
      "\t\t\t\t\t\t\t\t\t\t\t\t\t\t\t\tnode=110 test node: go to node 111 if X[:, 1] <= 0.136141687632 else to node 112.\n",
      "\t\t\t\t\t\t\t\t\t\t\t\t\t\t\t\t\tnode=111 leaf node.\n",
      "\t\t\t\t\t\t\t\t\t\t\t\t\t\t\t\t\tnode=112 leaf node.\n",
      "\t\t\t\t\t\t\t\t\t\t\t\t\t\tnode=113 leaf node.\n",
      "\t\t\t\t\t\t\t\t\t\t\tnode=114 test node: go to node 115 if X[:, 2] <= -0.515949487686 else to node 118.\n",
      "\t\t\t\t\t\t\t\t\t\t\t\tnode=115 test node: go to node 116 if X[:, 5] <= 0.355278968811 else to node 117.\n",
      "\t\t\t\t\t\t\t\t\t\t\t\t\tnode=116 leaf node.\n",
      "\t\t\t\t\t\t\t\t\t\t\t\t\tnode=117 leaf node.\n",
      "\t\t\t\t\t\t\t\t\t\t\t\tnode=118 leaf node.\n",
      "\t\t\t\t\t\t\t\t\t\tnode=119 leaf node.\n",
      "\t\t\t\t\t\t\t\t\tnode=120 test node: go to node 121 if X[:, 1] <= 0.595583200455 else to node 122.\n",
      "\t\t\t\t\t\t\t\t\t\tnode=121 leaf node.\n",
      "\t\t\t\t\t\t\t\t\t\tnode=122 test node: go to node 123 if X[:, 1] <= 0.825736582279 else to node 140.\n",
      "\t\t\t\t\t\t\t\t\t\t\tnode=123 test node: go to node 124 if X[:, 2] <= -0.854217290878 else to node 125.\n",
      "\t\t\t\t\t\t\t\t\t\t\t\tnode=124 leaf node.\n",
      "\t\t\t\t\t\t\t\t\t\t\t\tnode=125 test node: go to node 126 if X[:, 3] <= 0.63957464695 else to node 127.\n",
      "\t\t\t\t\t\t\t\t\t\t\t\t\tnode=126 leaf node.\n",
      "\t\t\t\t\t\t\t\t\t\t\t\t\tnode=127 test node: go to node 128 if X[:, 1] <= 0.644901752472 else to node 129.\n",
      "\t\t\t\t\t\t\t\t\t\t\t\t\t\tnode=128 leaf node.\n",
      "\t\t\t\t\t\t\t\t\t\t\t\t\t\tnode=129 test node: go to node 130 if X[:, 1] <= 0.77468752861 else to node 137.\n",
      "\t\t\t\t\t\t\t\t\t\t\t\t\t\t\tnode=130 test node: go to node 131 if X[:, 5] <= 0.667923331261 else to node 136.\n",
      "\t\t\t\t\t\t\t\t\t\t\t\t\t\t\t\tnode=131 test node: go to node 132 if X[:, 2] <= -0.727818310261 else to node 133.\n",
      "\t\t\t\t\t\t\t\t\t\t\t\t\t\t\t\t\tnode=132 leaf node.\n",
      "\t\t\t\t\t\t\t\t\t\t\t\t\t\t\t\t\tnode=133 test node: go to node 134 if X[:, 2] <= -0.700130879879 else to node 135.\n",
      "\t\t\t\t\t\t\t\t\t\t\t\t\t\t\t\t\t\tnode=134 leaf node.\n",
      "\t\t\t\t\t\t\t\t\t\t\t\t\t\t\t\t\t\tnode=135 leaf node.\n",
      "\t\t\t\t\t\t\t\t\t\t\t\t\t\t\t\tnode=136 leaf node.\n",
      "\t\t\t\t\t\t\t\t\t\t\t\t\t\t\tnode=137 test node: go to node 138 if X[:, 3] <= 0.776096582413 else to node 139.\n",
      "\t\t\t\t\t\t\t\t\t\t\t\t\t\t\t\tnode=138 leaf node.\n",
      "\t\t\t\t\t\t\t\t\t\t\t\t\t\t\t\tnode=139 leaf node.\n",
      "\t\t\t\t\t\t\t\t\t\t\tnode=140 test node: go to node 141 if X[:, 3] <= 0.823837399483 else to node 142.\n",
      "\t\t\t\t\t\t\t\t\t\t\t\tnode=141 leaf node.\n",
      "\t\t\t\t\t\t\t\t\t\t\t\tnode=142 test node: go to node 143 if X[:, 4] <= -0.868833243847 else to node 146.\n",
      "\t\t\t\t\t\t\t\t\t\t\t\t\tnode=143 test node: go to node 144 if X[:, 4] <= -0.959218144417 else to node 145.\n",
      "\t\t\t\t\t\t\t\t\t\t\t\t\t\tnode=144 leaf node.\n",
      "\t\t\t\t\t\t\t\t\t\t\t\t\t\tnode=145 leaf node.\n",
      "\t\t\t\t\t\t\t\t\t\t\t\t\tnode=146 leaf node.\n",
      "\t\t\t\t\tnode=147 test node: go to node 148 if X[:, 3] <= 0.904242992401 else to node 149.\n",
      "\t\t\t\t\t\tnode=148 leaf node.\n",
      "\t\t\t\t\t\tnode=149 leaf node.\n",
      "\t\tnode=150 test node: go to node 151 if X[:, 2] <= -1.01552653313 else to node 154.\n",
      "\t\t\tnode=151 test node: go to node 152 if X[:, 3] <= 1.05081558228 else to node 153.\n",
      "\t\t\t\tnode=152 leaf node.\n",
      "\t\t\t\tnode=153 leaf node.\n",
      "\t\t\tnode=154 test node: go to node 155 if X[:, 2] <= -0.933668076992 else to node 156.\n",
      "\t\t\t\tnode=155 leaf node.\n",
      "\t\t\t\tnode=156 leaf node.\n",
      "()\n"
     ]
    }
   ],
   "source": [
    "estimator=clf\n",
    "n_nodes = estimator.tree_.node_count\n",
    "children_left = estimator.tree_.children_left\n",
    "children_right = estimator.tree_.children_right\n",
    "feature = estimator.tree_.feature\n",
    "threshold = estimator.tree_.threshold\n",
    "\n",
    "\n",
    "# The tree structure can be traversed to compute various properties such\n",
    "# as the depth of each node and whether or not it is a leaf.\n",
    "node_depth = np.zeros(shape=n_nodes, dtype=np.int64)\n",
    "is_leaves = np.zeros(shape=n_nodes, dtype=bool)\n",
    "stack = [(0, -1)]  # seed is the root node id and its parent depth\n",
    "while len(stack) > 0:\n",
    "    node_id, parent_depth = stack.pop()\n",
    "    node_depth[node_id] = parent_depth + 1\n",
    "\n",
    "    # If we have a test node\n",
    "    if (children_left[node_id] != children_right[node_id]):\n",
    "        stack.append((children_left[node_id], parent_depth + 1))\n",
    "        stack.append((children_right[node_id], parent_depth + 1))\n",
    "    else:\n",
    "        is_leaves[node_id] = True\n",
    "\n",
    "print(\"The binary tree structure has %s nodes and has \"\n",
    "      \"the following tree structure:\"\n",
    "      % n_nodes)\n",
    "for i in range(n_nodes):\n",
    "    if is_leaves[i]:\n",
    "        print(\"%snode=%s leaf node.\" % (node_depth[i] * \"\\t\", i))\n",
    "    else:\n",
    "        print(\"%snode=%s test node: go to node %s if X[:, %s] <= %s else to \"\n",
    "              \"node %s.\"\n",
    "              % (node_depth[i] * \"\\t\",\n",
    "                 i,\n",
    "                 children_left[i],\n",
    "                 feature[i],\n",
    "                 threshold[i],\n",
    "                 children_right[i],\n",
    "                 ))\n",
    "print()"
   ]
  },
  {
   "cell_type": "code",
   "execution_count": null,
   "metadata": {
    "collapsed": true
   },
   "outputs": [],
   "source": []
  }
 ],
 "metadata": {
  "kernelspec": {
   "display_name": "Python 2",
   "language": "python",
   "name": "python2"
  },
  "language_info": {
   "codemirror_mode": {
    "name": "ipython",
    "version": 2
   },
   "file_extension": ".py",
   "mimetype": "text/x-python",
   "name": "python",
   "nbconvert_exporter": "python",
   "pygments_lexer": "ipython2",
   "version": "2.7.13"
  }
 },
 "nbformat": 4,
 "nbformat_minor": 2
}
